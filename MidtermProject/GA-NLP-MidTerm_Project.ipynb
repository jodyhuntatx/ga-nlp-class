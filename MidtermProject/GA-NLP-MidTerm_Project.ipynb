{
 "cells": [
  {
   "cell_type": "markdown",
   "metadata": {
    "id": "7A5on_E9xQSC"
   },
   "source": [
    "<center><p float=\"center\">\n",
    "  <img src=\"https://mma.prnewswire.com/media/1458111/Great_Learning_Logo.jpg?p=facebook\" width=\"200\" height=\"100\"/>\n",
    "</p></center>\n",
    "\n",
    "<h1><center><font size=10> Generative AI for NLP Program</center></font></h1>\n",
    "<h1><center> Project </center></h1>"
   ]
  },
  {
   "cell_type": "markdown",
   "metadata": {
    "id": "pkypp72Oa4LD"
   },
   "source": [
    "# **GA-NLP Mid-Term Project: Financial Product Complaint Classification and Summarization**"
   ]
  },
  {
   "cell_type": "markdown",
   "metadata": {
    "id": "exBRHi0DbHFT"
   },
   "source": [
    "## **Business Context**\n",
    "\n",
    "In today's financial landscape, customer complaints are pivotal for financial institutions, highlighting areas of dissatisfaction and guiding business improvements. The intricate task of classifying these complaints into specific product categories is crucial for understanding customer issues and enhancing service delivery. By employing Generative AI for text classification, businesses can gain a detailed understanding of customer grievances related to various financial products such as credit reports, student loans, and money transfers.\n",
    "\n",
    "The integration of machine learning algorithms has revolutionized the automation of customer complaint classification. Utilizing these advanced techniques, financial institutions can swiftly and accurately categorize new complaints based on their content. This automation not only saves time and resources but also ensures timely responses to customer issues, thereby improving customer satisfaction and compliance with regulatory standards.\n",
    "\n",
    "Additionally, this project will explore the summarization of customer narratives to provide more personalized solutions to complaints. By using Generative AI, businesses can enhance their ability to classify complaints more precisely and generate complaint summaries that facilitate more tailored and effective service responses.\n",
    "\n",
    "Embarking on this project of Financial Product Complaint Classification and Summarization, with a focus on classification and summarization accuracy, equips you with essential skills applicable to real-world business contexts. Through hands-on experience with code and implementation specifics, you'll gain the proficiency to build such solutions using open-source machine learning algorithms. This experience will serve as a compelling Proof-of-Concept, paving the way for the implementation of these advanced solutions in financial institutions."
   ]
  },
  {
   "cell_type": "markdown",
   "metadata": {
    "id": "hJfHP45hZpwW"
   },
   "source": [
    "## **Project Objective**\n",
    "\n",
    "Develop a Generative AI application using a Large Language Model to automate product classification and narrative summarization. This application will predict product categories, generate responses based on customer sentiment, and summarize narratives for the mediation team. We have been tackling this task with BERT and prompt engineering with LLMs. We will explore various techniques and select the most effective method."
   ]
  },
  {
   "cell_type": "markdown",
   "metadata": {
    "id": "9iz9eQKRzGBr",
    "jp-MarkdownHeadingCollapsed": true
   },
   "source": [
    "# **Section 1 BERT Fine Tuning (10 Marks)** (product classification)"
   ]
  },
  {
   "cell_type": "markdown",
   "metadata": {
    "id": "tg8yUa4sxWUI",
    "jp-MarkdownHeadingCollapsed": true
   },
   "source": [
    "### **Question 1: Installing the necessary packages and importing libraries (1 Mark)**"
   ]
  },
  {
   "cell_type": "code",
   "execution_count": null,
   "metadata": {
    "id": "NwQFn8w-yloT"
   },
   "outputs": [],
   "source": [
    "# Import necessary libraries for data manipulation and analysis\n",
    "import pandas as pd\n",
    "import numpy as np\n",
    "\n",
    "# Import visualization libraries\n",
    "import seaborn as sns\n",
    "import matplotlib.pyplot as plt\n",
    "\n",
    "# Import modules from scikit-learn for machine learning tasks\n",
    "from sklearn.model_selection import train_test_split\n",
    "from sklearn.preprocessing import LabelEncoder\n",
    "from sklearn.metrics import confusion_matrix, f1_score, precision_score, recall_score, accuracy_score, classification_report\n",
    "\n",
    "# Import TensorFlow for deep learning tasks\n",
    "import tensorflow as tf\n",
    "\n",
    "import re\n",
    "import json"
   ]
  },
  {
   "cell_type": "code",
   "execution_count": null,
   "metadata": {
    "id": "gl8ibWBGymnB"
   },
   "outputs": [],
   "source": [
    "# Import BertTokenizer, TFBertForSequenceClassification from the Hugging Face transformers library\n",
    "from transformers import BertTokenizer, TFBertForSequenceClassification"
   ]
  },
  {
   "cell_type": "code",
   "execution_count": null,
   "metadata": {
    "id": "FDdZSwFgTx9i"
   },
   "outputs": [],
   "source": [
    "# Set the seed for the TensorFlow random number generator to ensure reproducibility\n",
    "tf.random.set_seed(42)"
   ]
  },
  {
   "cell_type": "markdown",
   "metadata": {
    "id": "mFyPpwimzm7C",
    "jp-MarkdownHeadingCollapsed": true
   },
   "source": [
    "### **Question 2: Data preprocessing for Bert Fine Tuning (2 Marks)**"
   ]
  },
  {
   "cell_type": "code",
   "execution_count": null,
   "metadata": {
    "id": "d1iRBbNEz8AS"
   },
   "outputs": [],
   "source": [
    "# Load a CSV File containing Dataset of 500 products, narrative and summary (summary of narrative)\n",
    "data=pd.read_csv(\"./Complaints_classification.csv\")"
   ]
  },
  {
   "cell_type": "code",
   "execution_count": null,
   "metadata": {},
   "outputs": [],
   "source": [
    "data.shape"
   ]
  },
  {
   "cell_type": "code",
   "execution_count": null,
   "metadata": {},
   "outputs": [],
   "source": [
    "data.head()"
   ]
  },
  {
   "cell_type": "markdown",
   "metadata": {},
   "source": [
    "#### Observations:\n",
    "- product column is categorical\n",
    "- narrative text is already all lower case and needs no cleaning.\n",
    "- summary is mixed-case, may need cleaning later"
   ]
  },
  {
   "cell_type": "code",
   "execution_count": null,
   "metadata": {
    "id": "ZDJlPfhY0QtU"
   },
   "outputs": [],
   "source": [
    "#Bert_data=data['product','narrative']"
   ]
  },
  {
   "cell_type": "code",
   "execution_count": null,
   "metadata": {
    "id": "H0OWEvhk0l9M"
   },
   "outputs": [],
   "source": [
    "# Creating dependent and independent variables from Bert_data\n",
    "train_test = data['narrative']\n",
    "y = data['product']\n",
    "# Further split the temporary set into train (80%) and test (20%) sets\n",
    "X_train, X_test, y_train, y_test = train_test_split(train_test, y, test_size=0.20, stratify=y, random_state=42)"
   ]
  },
  {
   "cell_type": "code",
   "execution_count": null,
   "metadata": {},
   "outputs": [],
   "source": [
    "X_train.shape, y_train.shape"
   ]
  },
  {
   "cell_type": "code",
   "execution_count": null,
   "metadata": {},
   "outputs": [],
   "source": [
    "X_test.shape, y_test.shape"
   ]
  },
  {
   "cell_type": "code",
   "execution_count": null,
   "metadata": {
    "id": "qscEhyvd1COV"
   },
   "outputs": [],
   "source": [
    "# Label Encoding\n",
    "encoder = LabelEncoder()\n",
    "\n",
    "# fit the encoder to the training labels\n",
    "y_train_enc = encoder.fit_transform(y_train)\n",
    "\n",
    "# applying the encoder mapping from training labels to test labels\n",
    "y_test_enc = encoder.transform(y_test)"
   ]
  },
  {
   "cell_type": "markdown",
   "metadata": {
    "id": "2z6YF8gZ1MTc",
    "jp-MarkdownHeadingCollapsed": true
   },
   "source": [
    "### **Question 3: Tokenization (1 Mark)**"
   ]
  },
  {
   "cell_type": "code",
   "execution_count": null,
   "metadata": {
    "id": "xg5RWZtp2Puu"
   },
   "outputs": [],
   "source": [
    "# loading and creating an instance of the BERT tokenizer\n",
    "tokenizer = BertTokenizer.from_pretrained('bert-base-uncased', do_lower_case=True)\n",
    "# specifying the maximum length of the input 512\n",
    "max_length = 512"
   ]
  },
  {
   "cell_type": "code",
   "execution_count": null,
   "metadata": {
    "id": "vPb5FlFR2UAk"
   },
   "outputs": [],
   "source": [
    "X_train_tokenized = tokenizer(\n",
    "    X_train.values.tolist(),    # passing the data as a list to the tokenizer\n",
    "    max_length=max_length,    # specifies the maximum length of the tokenized data\n",
    "    padding='max_length',    # padding the data to the specified maximum length\n",
    "    truncation=True,    # truncating the input if it is longer than the specified maximum length\n",
    "    return_attention_mask=True,    # specifying to return attention masks\n",
    "    return_tensors='tf',    # specifying to return the output as tensorflow tensors\n",
    ")\n",
    "X_test_tokenized = tokenizer(\n",
    "    X_test.values.tolist(),\n",
    "    max_length=max_length,\n",
    "    padding='max_length',\n",
    "    truncation=True,\n",
    "    return_attention_mask=True,\n",
    "    return_tensors='tf',\n",
    ")"
   ]
  },
  {
   "cell_type": "code",
   "execution_count": null,
   "metadata": {},
   "outputs": [],
   "source": [
    "type(X_train_tokenized)"
   ]
  },
  {
   "cell_type": "markdown",
   "metadata": {
    "id": "raT2V3lU2x_Q",
    "jp-MarkdownHeadingCollapsed": true
   },
   "source": [
    "### **Question 4: Creating Tensorflow dataset (1 Mark)**"
   ]
  },
  {
   "cell_type": "code",
   "execution_count": null,
   "metadata": {
    "id": "63e-GNZT2wkP"
   },
   "outputs": [],
   "source": [
    "# defining the size of the batches\n",
    "batch_size = 8\n",
    "\n",
    "# convert the tokenized input and the output into a batched tensorflow dataset for training\n",
    "train_tokenized_tf = tf.data.Dataset.from_tensor_slices((dict(X_train_tokenized), y_train_enc)).batch(batch_size)\n",
    "\n",
    "# convert the tokenized input and the output into a batched tensorflow dataset for testing\n",
    "test_tokenized_tf = tf.data.Dataset.from_tensor_slices((dict(X_test_tokenized), y_test_enc)).batch(batch_size)"
   ]
  },
  {
   "cell_type": "markdown",
   "metadata": {
    "id": "rSSSVjqe3M54",
    "jp-MarkdownHeadingCollapsed": true
   },
   "source": [
    "### **Question 5 Evaluating the base model's performance in product classification.(1 Marks)**"
   ]
  },
  {
   "cell_type": "code",
   "execution_count": null,
   "metadata": {
    "id": "i7mCVcuE4Dzn"
   },
   "outputs": [],
   "source": [
    "def bert_f1_score(actual_vals, pred_vals):\n",
    "    micro_f1_score = f1_score(actual_vals, pred_vals, average=\"micro\")\n",
    "    return micro_f1_score"
   ]
  },
  {
   "cell_type": "code",
   "execution_count": null,
   "metadata": {
    "id": "dL5hdRna6MW_"
   },
   "outputs": [],
   "source": [
    "# Actual product class\n",
    "actual_val = np.concatenate([y for x, y in test_tokenized_tf], axis=0)"
   ]
  },
  {
   "cell_type": "code",
   "execution_count": null,
   "metadata": {},
   "outputs": [],
   "source": [
    "num_classes = y.nunique()\n",
    "num_classes"
   ]
  },
  {
   "cell_type": "code",
   "execution_count": null,
   "metadata": {
    "id": "KnQnyS-93G9O"
   },
   "outputs": [],
   "source": [
    "# Initialize Model using BERT for sequence classification\n",
    "base_model = TFBertForSequenceClassification.from_pretrained('bert-base-uncased', num_labels=num_classes)"
   ]
  },
  {
   "cell_type": "code",
   "execution_count": null,
   "metadata": {},
   "outputs": [],
   "source": [
    "# print the summary of the model\n",
    "base_model.summary()"
   ]
  },
  {
   "cell_type": "code",
   "execution_count": null,
   "metadata": {},
   "outputs": [],
   "source": [
    "# Make prediction on test_tokenized_tf\n",
    "preds_raw_test = base_model.predict(test_tokenized_tf)\n",
    "preds_test_base = np.argmax(np.array(tf.nn.softmax(preds_raw_test.logits)), axis=1)\n",
    "preds_test_base.shape"
   ]
  },
  {
   "cell_type": "code",
   "execution_count": null,
   "metadata": {},
   "outputs": [],
   "source": [
    "preds_test_base[0:5]"
   ]
  },
  {
   "cell_type": "code",
   "execution_count": null,
   "metadata": {},
   "outputs": [],
   "source": [
    "y_test_enc[0:5]"
   ]
  },
  {
   "cell_type": "code",
   "execution_count": null,
   "metadata": {},
   "outputs": [],
   "source": [
    "y_test.value_counts()"
   ]
  },
  {
   "cell_type": "code",
   "execution_count": null,
   "metadata": {},
   "outputs": [],
   "source": [
    "data['product'].value_counts()"
   ]
  },
  {
   "cell_type": "code",
   "execution_count": null,
   "metadata": {
    "id": "q9oa8YPR5D0z"
   },
   "outputs": [],
   "source": [
    "# Evaluate bert base model\n",
    "base_f1_score = bert_f1_score(y_test_enc, preds_test_base)\n",
    "print(base_f1_score)"
   ]
  },
  {
   "cell_type": "markdown",
   "metadata": {},
   "source": [
    "#### Observations:\n",
    "- Untrained model performance is really bad."
   ]
  },
  {
   "cell_type": "markdown",
   "metadata": {
    "id": "4UVe2kiB510Z",
    "jp-MarkdownHeadingCollapsed": true
   },
   "source": [
    "### **Question 6 Fine-Tuning Bert Model on training set (2 Marks)**"
   ]
  },
  {
   "cell_type": "code",
   "execution_count": null,
   "metadata": {
    "id": "Shjp4bPVlfMh"
   },
   "outputs": [],
   "source": [
    "num_classes = y.nunique()\n",
    "# Model initialization using BERT for sequence classification\n",
    "ft_model = TFBertForSequenceClassification.from_pretrained('bert-base-uncased', num_labels=num_classes)"
   ]
  },
  {
   "cell_type": "code",
   "execution_count": null,
   "metadata": {
    "id": "f1Psz_7a59TU"
   },
   "outputs": [],
   "source": [
    "# setting the learning rate for the optimizer\n",
    "learning_rate = 1e-5\n",
    "\n",
    "# Setting the optimizer to Adam\n",
    "optimizer = tf.keras.optimizers.Adam(learning_rate=learning_rate, epsilon=1e-08)\n",
    "\n",
    "# Specify the loss function for the model\n",
    "loss = tf.keras.losses.SparseCategoricalCrossentropy(from_logits=True)\n",
    "\n",
    "# Define evaluation metric(s) for the model\n",
    "metric = [tf.keras.metrics.SparseCategoricalAccuracy('accuracy')]\n",
    "\n",
    "# Compile the model with the chosen optimizer, loss function, and metrics\n",
    "ft_model.compile(optimizer=optimizer, loss=loss, metrics=metric)"
   ]
  },
  {
   "cell_type": "code",
   "execution_count": null,
   "metadata": {
    "id": "ZJiQN-mb6kIn"
   },
   "outputs": [],
   "source": [
    "# Calculate class weights for imbalanced dataset\n",
    "cw = (y_train_enc.shape[0]) / np.bincount(y_train_enc)\n",
    "\n",
    "# Create a dictionary mapping class indices to their respective class weights\n",
    "cw_dict = {}\n",
    "for i in range(cw.shape[0]):\n",
    "    cw_dict[encoder.transform(encoder.classes_)[i]] = cw[i]"
   ]
  },
  {
   "cell_type": "code",
   "execution_count": null,
   "metadata": {
    "id": "YzNLc2n96oT_"
   },
   "outputs": [],
   "source": [
    "# Number of training epochs\n",
    "n_epochs = 1\n",
    "#train bert model\n",
    "bert_base_tuned = ft_model.fit(train_tokenized_tf, epochs=n_epochs, class_weight=cw_dict)"
   ]
  },
  {
   "cell_type": "markdown",
   "metadata": {
    "id": "NQ43M02s68Uf",
    "jp-MarkdownHeadingCollapsed": true
   },
   "source": [
    "### **Question 7. Evaluating the trained model performance (1 Mark)**"
   ]
  },
  {
   "cell_type": "code",
   "execution_count": null,
   "metadata": {
    "id": "wd890cvZ61_o"
   },
   "outputs": [],
   "source": [
    "# Generate raw predictions on the test dataset using the trained model\n",
    "preds_raw_val_ft = ft_model.predict(test_tokenized_tf)\n",
    "\n",
    "# Extract predicted labels by finding the index with the highest probability for each example\n",
    "preds_val_ft = np.argmax(np.array(tf.nn.softmax(preds_raw_val_ft.logits)), axis=1)"
   ]
  },
  {
   "cell_type": "code",
   "execution_count": null,
   "metadata": {},
   "outputs": [],
   "source": [
    "preds_val_ft[0:5]"
   ]
  },
  {
   "cell_type": "code",
   "execution_count": null,
   "metadata": {
    "id": "D33p2Wqn7Tgq"
   },
   "outputs": [],
   "source": [
    "# Evaluate bert trained model\n",
    "ft_f1_score = bert_f1_score(y_test_enc, preds_val_ft)\n",
    "print(ft_f1_score)"
   ]
  },
  {
   "cell_type": "markdown",
   "metadata": {
    "id": "8iBOLR6a7dbZ",
    "jp-MarkdownHeadingCollapsed": true
   },
   "source": [
    "### **Question 8: Write your observations (1 Mark)**"
   ]
  },
  {
   "cell_type": "markdown",
   "metadata": {},
   "source": [
    "- Training improved f1 score dramatically, from 0.09 to 0.60"
   ]
  },
  {
   "cell_type": "markdown",
   "metadata": {
    "id": "sSiuLz5JCLQI",
    "jp-MarkdownHeadingCollapsed": true
   },
   "source": [
    "# **Section 2: Install Libraries for Prompt Engineering and Setting up Mistral Model (3 Marks)**"
   ]
  },
  {
   "cell_type": "markdown",
   "metadata": {
    "id": "XcGMygn3_Mq9",
    "jp-MarkdownHeadingCollapsed": true
   },
   "source": [
    "### **Question 9: Install necessary libraries (1 Mark)**"
   ]
  },
  {
   "cell_type": "code",
   "execution_count": 48,
   "metadata": {
    "id": "gl0E64ce8Uct"
   },
   "outputs": [
    {
     "name": "stdout",
     "output_type": "stream",
     "text": [
      "llama_cpp_python             0.2.84\n",
      "huggingface-hub              0.24.2\n",
      "evaluate                     0.4.1\n",
      "bert-score                   0.3.12\n",
      "numpy                        1.25.2\n"
     ]
    }
   ],
   "source": [
    "# Installation for GPU llama_cpp_python==0.2.28\n",
    "!pip list | grep llama_cpp_python\n",
    "# For downloading the models from HF Hub huggingface-hub==0.23.2\n",
    "!pip list | grep huggingface-hub\n",
    "# install evaluate==0.4.2 and bert-score==0.3.13 using pip command\n",
    "!pip list | grep evaluate\n",
    "!pip list | grep bert-score\n",
    "# install numpy==1.25.2\n",
    "!pip list | grep numpy"
   ]
  },
  {
   "cell_type": "code",
   "execution_count": 49,
   "metadata": {
    "id": "TsrUPUGTANTi"
   },
   "outputs": [],
   "source": [
    "# Basic Imports for Libraries\n",
    "from sklearn.model_selection import train_test_split\n",
    "from sklearn.metrics import f1_score, confusion_matrix\n",
    "\n",
    "# Import visualization libraries\n",
    "import seaborn as sns\n",
    "import matplotlib.pyplot as plt\n",
    "\n",
    "import pandas as pd\n",
    "import numpy as np\n",
    "from tqdm import tqdm\n",
    "import json\n",
    "import re\n",
    "\n",
    "import torch\n",
    "import evaluate\n",
    "\n",
    "#from google.colab import drive\n",
    "import locale"
   ]
  },
  {
   "cell_type": "code",
   "execution_count": 50,
   "metadata": {},
   "outputs": [],
   "source": [
    "# Load a CSV File containing Dataset of 500 products, narrative and summary (summary of narrative)\n",
    "data=pd.read_csv(\"./Complaints_classification.csv\")"
   ]
  },
  {
   "cell_type": "markdown",
   "metadata": {
    "id": "GdQdNav7AOtV",
    "jp-MarkdownHeadingCollapsed": true
   },
   "source": [
    "### **Question 10: Importing Libaries and Setting up Mistral Model (2 Marks)**"
   ]
  },
  {
   "cell_type": "markdown",
   "metadata": {
    "id": "NO7TfAEiSxMR"
   },
   "source": [
    "https://huggingface.co/TheBloke/Mistral-7B-Instruct-v0.2-GGUF/blob/main/mistral-7b-instruct-v0.2.Q5_K_M.gguf"
   ]
  },
  {
   "cell_type": "code",
   "execution_count": 51,
   "metadata": {
    "id": "cpQlIfeqAkvz"
   },
   "outputs": [
    {
     "name": "stdout",
     "output_type": "stream",
     "text": [
      "llama-2-13b-chat.Q5_K_M.gguf  mistral-7b-instruct-v0.2.Q5_K_M.gguf\n"
     ]
    }
   ],
   "source": [
    "## Import Hf_hub_download from hugging_face_hub\n",
    "!ls /home/ubuntu/models\n",
    "\n",
    "## Import Llama from llama_cpp\n",
    "from llama_cpp import Llama"
   ]
  },
  {
   "cell_type": "code",
   "execution_count": 52,
   "metadata": {
    "id": "e9c3ISlwftKB"
   },
   "outputs": [],
   "source": [
    "# Define the model name or path as a string (You can find this info from hugging face website) Use Mistral\n",
    "\n",
    "model_basepath = \"/home/ubuntu/models/\"\n",
    "\n",
    "# Define the model name as a string, indicating it's in the gguf format\n",
    "\n",
    "model_name = \"mistral-7b-instruct-v0.2.Q5_K_M.gguf\" # the model is in gguf format"
   ]
  },
  {
   "cell_type": "code",
   "execution_count": 53,
   "metadata": {
    "id": "vvPmPoy4wCIc"
   },
   "outputs": [],
   "source": [
    "model_path = model_basepath+model_name"
   ]
  },
  {
   "cell_type": "code",
   "execution_count": 54,
   "metadata": {
    "id": "R7Sm6O-jfzRo"
   },
   "outputs": [
    {
     "name": "stderr",
     "output_type": "stream",
     "text": [
      "llama_model_loader: loaded meta data with 24 key-value pairs and 291 tensors from /home/ubuntu/models/mistral-7b-instruct-v0.2.Q5_K_M.gguf (version GGUF V3 (latest))\n",
      "llama_model_loader: Dumping metadata keys/values. Note: KV overrides do not apply in this output.\n",
      "llama_model_loader: - kv   0:                       general.architecture str              = llama\n",
      "llama_model_loader: - kv   1:                               general.name str              = mistralai_mistral-7b-instruct-v0.2\n",
      "llama_model_loader: - kv   2:                       llama.context_length u32              = 32768\n",
      "llama_model_loader: - kv   3:                     llama.embedding_length u32              = 4096\n",
      "llama_model_loader: - kv   4:                          llama.block_count u32              = 32\n",
      "llama_model_loader: - kv   5:                  llama.feed_forward_length u32              = 14336\n",
      "llama_model_loader: - kv   6:                 llama.rope.dimension_count u32              = 128\n",
      "llama_model_loader: - kv   7:                 llama.attention.head_count u32              = 32\n",
      "llama_model_loader: - kv   8:              llama.attention.head_count_kv u32              = 8\n",
      "llama_model_loader: - kv   9:     llama.attention.layer_norm_rms_epsilon f32              = 0.000010\n",
      "llama_model_loader: - kv  10:                       llama.rope.freq_base f32              = 1000000.000000\n",
      "llama_model_loader: - kv  11:                          general.file_type u32              = 17\n",
      "llama_model_loader: - kv  12:                       tokenizer.ggml.model str              = llama\n",
      "llama_model_loader: - kv  13:                      tokenizer.ggml.tokens arr[str,32000]   = [\"<unk>\", \"<s>\", \"</s>\", \"<0x00>\", \"<...\n",
      "llama_model_loader: - kv  14:                      tokenizer.ggml.scores arr[f32,32000]   = [0.000000, 0.000000, 0.000000, 0.0000...\n",
      "llama_model_loader: - kv  15:                  tokenizer.ggml.token_type arr[i32,32000]   = [2, 3, 3, 6, 6, 6, 6, 6, 6, 6, 6, 6, ...\n",
      "llama_model_loader: - kv  16:                tokenizer.ggml.bos_token_id u32              = 1\n",
      "llama_model_loader: - kv  17:                tokenizer.ggml.eos_token_id u32              = 2\n",
      "llama_model_loader: - kv  18:            tokenizer.ggml.unknown_token_id u32              = 0\n",
      "llama_model_loader: - kv  19:            tokenizer.ggml.padding_token_id u32              = 0\n",
      "llama_model_loader: - kv  20:               tokenizer.ggml.add_bos_token bool             = true\n",
      "llama_model_loader: - kv  21:               tokenizer.ggml.add_eos_token bool             = false\n",
      "llama_model_loader: - kv  22:                    tokenizer.chat_template str              = {{ bos_token }}{% for message in mess...\n",
      "llama_model_loader: - kv  23:               general.quantization_version u32              = 2\n",
      "llama_model_loader: - type  f32:   65 tensors\n",
      "llama_model_loader: - type q5_K:  193 tensors\n",
      "llama_model_loader: - type q6_K:   33 tensors\n",
      "llm_load_vocab: special tokens cache size = 3\n",
      "llm_load_vocab: token to piece cache size = 0.1637 MB\n",
      "llm_load_print_meta: format           = GGUF V3 (latest)\n",
      "llm_load_print_meta: arch             = llama\n",
      "llm_load_print_meta: vocab type       = SPM\n",
      "llm_load_print_meta: n_vocab          = 32000\n",
      "llm_load_print_meta: n_merges         = 0\n",
      "llm_load_print_meta: vocab_only       = 0\n",
      "llm_load_print_meta: n_ctx_train      = 32768\n",
      "llm_load_print_meta: n_embd           = 4096\n",
      "llm_load_print_meta: n_layer          = 32\n",
      "llm_load_print_meta: n_head           = 32\n",
      "llm_load_print_meta: n_head_kv        = 8\n",
      "llm_load_print_meta: n_rot            = 128\n",
      "llm_load_print_meta: n_swa            = 0\n",
      "llm_load_print_meta: n_embd_head_k    = 128\n",
      "llm_load_print_meta: n_embd_head_v    = 128\n",
      "llm_load_print_meta: n_gqa            = 4\n",
      "llm_load_print_meta: n_embd_k_gqa     = 1024\n",
      "llm_load_print_meta: n_embd_v_gqa     = 1024\n",
      "llm_load_print_meta: f_norm_eps       = 0.0e+00\n",
      "llm_load_print_meta: f_norm_rms_eps   = 1.0e-05\n",
      "llm_load_print_meta: f_clamp_kqv      = 0.0e+00\n",
      "llm_load_print_meta: f_max_alibi_bias = 0.0e+00\n",
      "llm_load_print_meta: f_logit_scale    = 0.0e+00\n",
      "llm_load_print_meta: n_ff             = 14336\n",
      "llm_load_print_meta: n_expert         = 0\n",
      "llm_load_print_meta: n_expert_used    = 0\n",
      "llm_load_print_meta: causal attn      = 1\n",
      "llm_load_print_meta: pooling type     = 0\n",
      "llm_load_print_meta: rope type        = 0\n",
      "llm_load_print_meta: rope scaling     = linear\n",
      "llm_load_print_meta: freq_base_train  = 1000000.0\n",
      "llm_load_print_meta: freq_scale_train = 1\n",
      "llm_load_print_meta: n_ctx_orig_yarn  = 32768\n",
      "llm_load_print_meta: rope_finetuned   = unknown\n",
      "llm_load_print_meta: ssm_d_conv       = 0\n",
      "llm_load_print_meta: ssm_d_inner      = 0\n",
      "llm_load_print_meta: ssm_d_state      = 0\n",
      "llm_load_print_meta: ssm_dt_rank      = 0\n",
      "llm_load_print_meta: model type       = 7B\n",
      "llm_load_print_meta: model ftype      = Q5_K - Medium\n",
      "llm_load_print_meta: model params     = 7.24 B\n",
      "llm_load_print_meta: model size       = 4.78 GiB (5.67 BPW) \n",
      "llm_load_print_meta: general.name     = mistralai_mistral-7b-instruct-v0.2\n",
      "llm_load_print_meta: BOS token        = 1 '<s>'\n",
      "llm_load_print_meta: EOS token        = 2 '</s>'\n",
      "llm_load_print_meta: UNK token        = 0 '<unk>'\n",
      "llm_load_print_meta: PAD token        = 0 '<unk>'\n",
      "llm_load_print_meta: LF token         = 13 '<0x0A>'\n",
      "llm_load_print_meta: max token length = 48\n",
      "llm_load_tensors: ggml ctx size =    0.27 MiB\n",
      "llm_load_tensors: offloading 32 repeating layers to GPU\n",
      "llm_load_tensors: offloading non-repeating layers to GPU\n",
      "llm_load_tensors: offloaded 33/33 layers to GPU\n",
      "llm_load_tensors:        CPU buffer size =    85.94 MiB\n",
      "llm_load_tensors:      CUDA0 buffer size =  4807.05 MiB\n",
      "...................................................................................................\n",
      "llama_new_context_with_model: n_ctx      = 4096\n",
      "llama_new_context_with_model: n_batch    = 512\n",
      "llama_new_context_with_model: n_ubatch   = 512\n",
      "llama_new_context_with_model: flash_attn = 0\n",
      "llama_new_context_with_model: freq_base  = 1000000.0\n",
      "llama_new_context_with_model: freq_scale = 1\n",
      "llama_kv_cache_init:      CUDA0 KV buffer size =   512.00 MiB\n",
      "llama_new_context_with_model: KV self size  =  512.00 MiB, K (f16):  256.00 MiB, V (f16):  256.00 MiB\n",
      "llama_new_context_with_model:  CUDA_Host  output buffer size =     0.12 MiB\n",
      "llama_new_context_with_model:      CUDA0 compute buffer size =   296.00 MiB\n",
      "llama_new_context_with_model:  CUDA_Host compute buffer size =    16.01 MiB\n",
      "llama_new_context_with_model: graph nodes  = 1030\n",
      "llama_new_context_with_model: graph splits = 2\n",
      "AVX = 1 | AVX_VNNI = 0 | AVX2 = 1 | AVX512 = 1 | AVX512_VBMI = 0 | AVX512_VNNI = 1 | AVX512_BF16 = 0 | FMA = 1 | NEON = 0 | SVE = 0 | ARM_FMA = 0 | F16C = 1 | FP16_VA = 0 | WASM_SIMD = 0 | BLAS = 1 | SSE3 = 1 | SSSE3 = 1 | VSX = 0 | MATMUL_INT8 = 0 | LLAMAFILE = 1 | \n",
      "Model metadata: {'tokenizer.chat_template': \"{{ bos_token }}{% for message in messages %}{% if (message['role'] == 'user') != (loop.index0 % 2 == 0) %}{{ raise_exception('Conversation roles must alternate user/assistant/user/assistant/...') }}{% endif %}{% if message['role'] == 'user' %}{{ '[INST] ' + message['content'] + ' [/INST]' }}{% elif message['role'] == 'assistant' %}{{ message['content'] + eos_token}}{% else %}{{ raise_exception('Only user and assistant roles are supported!') }}{% endif %}{% endfor %}\", 'tokenizer.ggml.add_eos_token': 'false', 'tokenizer.ggml.padding_token_id': '0', 'tokenizer.ggml.unknown_token_id': '0', 'tokenizer.ggml.eos_token_id': '2', 'general.architecture': 'llama', 'llama.rope.freq_base': '1000000.000000', 'llama.context_length': '32768', 'general.name': 'mistralai_mistral-7b-instruct-v0.2', 'tokenizer.ggml.add_bos_token': 'true', 'llama.embedding_length': '4096', 'llama.feed_forward_length': '14336', 'llama.attention.layer_norm_rms_epsilon': '0.000010', 'llama.rope.dimension_count': '128', 'tokenizer.ggml.bos_token_id': '1', 'llama.attention.head_count': '32', 'llama.block_count': '32', 'llama.attention.head_count_kv': '8', 'general.quantization_version': '2', 'tokenizer.ggml.model': 'llama', 'general.file_type': '17'}\n",
      "Available chat formats from metadata: chat_template.default\n",
      "Guessed chat format: mistral-instruct\n"
     ]
    }
   ],
   "source": [
    "# Create an instance of the 'Llama' class with specified parameters\n",
    "# remove the blank spaces and complete the code\n",
    "\n",
    "lcpp_llm = Llama(\n",
    "        model_path=model_path,\n",
    "        n_threads=2,  # CPU cores\n",
    "        n_batch=512,  # Should be between 1 and n_ctx, consider the amount of VRAM in your GPU.\n",
    "        n_gpu_layers=43,  # Change this value based on your model and your GPU VRAM pool.\n",
    "        n_ctx=4096,  # Context window\n",
    "    )"
   ]
  },
  {
   "cell_type": "markdown",
   "metadata": {
    "id": "Cj8Gk-m1Iz1q"
   },
   "source": [
    "# **Section 3: Text to Label (12 Marks)**"
   ]
  },
  {
   "cell_type": "markdown",
   "metadata": {
    "id": "f6xcR3o2ga6p",
    "jp-MarkdownHeadingCollapsed": true
   },
   "source": [
    "## **Zero-Shot Prompting (6 Marks)**"
   ]
  },
  {
   "cell_type": "markdown",
   "metadata": {
    "id": "PZ8ual1jghmN"
   },
   "source": [
    "### **Q11: Define the Prompt Template, System Message, generate_prompt** **(3 Marks)**\n",
    "\n",
    "Define a **system message** as a string and assign it to the variable system_message to generate product class.\n",
    "\n",
    "Create a **zero shot prompt template** that incorporates the system message and user input.\n",
    "\n",
    "Define **generate_prompt** function that takes both the system_message and user_input as arguments and formats them into a prompt template\n",
    "\n",
    "\n",
    "Write a Python function called **generate_mistral_response** that takes a single parameter, narrative, which represents the user's complain. Inside the function, you should perform the following tasks:\n",
    "\n",
    "\n",
    "- **Combine the system_message and narrative to create a prompt string using generate_prompt function.**\n",
    "\n",
    "*Generate a response from the Mistral model using the lcpp_llm instance with the following parameters:*\n",
    "\n",
    "- prompt should be the combined prompt string.\n",
    "- max_tokens should be set to 1200.\n",
    "- temperature should be set to 0.\n",
    "- top_p should be set to 0.95.\n",
    "- repeat_penalty should be set to 1.2.\n",
    "- top_k should be set to 50.\n",
    "- stop should be set as a list containing '/s'.\n",
    "- echo should be set to False.\n",
    "Extract and return the response text from the generated response.\n",
    "\n",
    "Don't forget to provide a value for the system_message variable before using it in the function."
   ]
  },
  {
   "cell_type": "code",
   "execution_count": 7,
   "metadata": {
    "id": "QIMDLp51ghGr"
   },
   "outputs": [],
   "source": [
    "system_message = \"\"\"You are an AI evaluating the input text below to generate a singular product classification.\n",
    "Be concise.  Do not provide any explanation. Respond only with the product classification.\n",
    "A product classification is exactly one of:\n",
    "- credit_card\n",
    "- retail_banking\n",
    "- credit_reporting\n",
    "- mortgages_and_loans\n",
    "- debt_collection\n",
    "\"\"\""
   ]
  },
  {
   "cell_type": "code",
   "execution_count": 8,
   "metadata": {
    "id": "e24qaY7ug2CC"
   },
   "outputs": [],
   "source": [
    "zero_shot_prompt_template = \"{input}\""
   ]
  },
  {
   "cell_type": "code",
   "execution_count": 9,
   "metadata": {
    "id": "JKOyehERgy77"
   },
   "outputs": [],
   "source": [
    "# Define function that combines user_prompt and system_message to create the prompt\n",
    "def generate_prompt(_system_message, _user_input):\n",
    "    _prompt = f\"[INST]\\n<<SYS>>\\n{_system_message}\\n<<SYS>>\\n{_user_input}\\n[/INST]\"\n",
    "    return _prompt"
   ]
  },
  {
   "cell_type": "code",
   "execution_count": 11,
   "metadata": {},
   "outputs": [
    {
     "name": "stdout",
     "output_type": "stream",
     "text": [
      "[INST]\n",
      "<<SYS>>\n",
      "You are an AI evaluating the input text below to generate a singular product classification.\n",
      "Be concise.  Do not provide any explanation. Respond only with the product classification.\n",
      "A product classification is exactly one of:\n",
      "- credit_card\n",
      "- retail_banking\n",
      "- credit_reporting\n",
      "- mortgages_and_loans\n",
      "- debt_collection\n",
      "\n",
      "<<SYS>>\n",
      "this is the user input\n",
      "[/INST]\n"
     ]
    }
   ],
   "source": [
    "print(generate_prompt(system_message, \"this is the user input\"))"
   ]
  },
  {
   "cell_type": "code",
   "execution_count": 12,
   "metadata": {
    "id": "3PJcu3dwg7FO"
   },
   "outputs": [],
   "source": [
    "def generate_mistral_response(_sys_message, input_text):\n",
    "\n",
    "    # Combine user_prompt and system_message to create the prompt\n",
    "    prompt=generate_prompt(_sys_message, input_text)\n",
    "    # Generate a response from the LLaMA model\n",
    "    response = lcpp_llm(\n",
    "        prompt=prompt,\n",
    "        max_tokens=1200,\n",
    "        temperature=0,\n",
    "        top_p=0.95,\n",
    "        repeat_penalty=1.2,\n",
    "        top_k=50,\n",
    "        stop=['/s'],\n",
    "        echo=False\n",
    "    )\n",
    "\n",
    "    # Extract and return the response text\n",
    "    response_text = response[\"choices\"][0][\"text\"]\n",
    "    return response_text"
   ]
  },
  {
   "cell_type": "markdown",
   "metadata": {
    "id": "CmFU17EpyeKg"
   },
   "source": [
    "**Due to limited GPU resources, we will test our model with zero prompts on only 50 examples instead of the entire dataset.**"
   ]
  },
  {
   "cell_type": "code",
   "execution_count": 13,
   "metadata": {
    "id": "xhwItJrIhNta"
   },
   "outputs": [],
   "source": [
    "# Randomly select 50 rows\n",
    "new_data = data.sample(n=50, random_state=42)"
   ]
  },
  {
   "cell_type": "markdown",
   "metadata": {
    "id": "n-GrdMrVkaei"
   },
   "source": [
    "### **Q12: Create a new column in the DataFrame called 'mistral_response' and populate it with responses generated by applying the 'generate_mistral_response' function to each 'narrative' in the DataFrame and prepare the mistral_response_cleaned column using extract_category function** **(1 Marks)**"
   ]
  },
  {
   "cell_type": "code",
   "execution_count": 14,
   "metadata": {
    "id": "BqEme1elh24Y"
   },
   "outputs": [
    {
     "name": "stderr",
     "output_type": "stream",
     "text": [
      "\n",
      "llama_print_timings:        load time =     633.27 ms\n",
      "llama_print_timings:      sample time =       2.46 ms /     5 runs   (    0.49 ms per token,  2030.04 tokens per second)\n",
      "llama_print_timings: prompt eval time =     632.69 ms /   512 tokens (    1.24 ms per token,   809.25 tokens per second)\n",
      "llama_print_timings:        eval time =     134.96 ms /     5 runs   (   26.99 ms per token,    37.05 tokens per second)\n",
      "llama_print_timings:       total time =     773.08 ms /   517 tokens\n",
      "Llama.generate: prefix-match hit\n",
      "\n",
      "llama_print_timings:        load time =     633.27 ms\n",
      "llama_print_timings:      sample time =       4.66 ms /     9 runs   (    0.52 ms per token,  1932.99 tokens per second)\n",
      "llama_print_timings: prompt eval time =      60.88 ms /    33 tokens (    1.84 ms per token,   542.06 tokens per second)\n",
      "llama_print_timings:        eval time =     208.78 ms /     8 runs   (   26.10 ms per token,    38.32 tokens per second)\n",
      "llama_print_timings:       total time =     279.02 ms /    41 tokens\n",
      "Llama.generate: prefix-match hit\n",
      "\n",
      "llama_print_timings:        load time =     633.27 ms\n",
      "llama_print_timings:      sample time =       2.44 ms /     5 runs   (    0.49 ms per token,  2048.34 tokens per second)\n",
      "llama_print_timings: prompt eval time =     426.66 ms /   420 tokens (    1.02 ms per token,   984.39 tokens per second)\n",
      "llama_print_timings:        eval time =     108.00 ms /     4 runs   (   27.00 ms per token,    37.04 tokens per second)\n",
      "llama_print_timings:       total time =     540.02 ms /   424 tokens\n",
      "Llama.generate: prefix-match hit\n",
      "\n",
      "llama_print_timings:        load time =     633.27 ms\n",
      "llama_print_timings:      sample time =       2.55 ms /     5 runs   (    0.51 ms per token,  1959.25 tokens per second)\n",
      "llama_print_timings: prompt eval time =     121.37 ms /   117 tokens (    1.04 ms per token,   964.03 tokens per second)\n",
      "llama_print_timings:        eval time =     102.89 ms /     4 runs   (   25.72 ms per token,    38.88 tokens per second)\n",
      "llama_print_timings:       total time =     229.50 ms /   121 tokens\n",
      "Llama.generate: prefix-match hit\n",
      "\n",
      "llama_print_timings:        load time =     633.27 ms\n",
      "llama_print_timings:      sample time =       2.05 ms /     4 runs   (    0.51 ms per token,  1948.37 tokens per second)\n",
      "llama_print_timings: prompt eval time =      52.58 ms /    26 tokens (    2.02 ms per token,   494.48 tokens per second)\n",
      "llama_print_timings:        eval time =      78.24 ms /     3 runs   (   26.08 ms per token,    38.34 tokens per second)\n",
      "llama_print_timings:       total time =     134.34 ms /    29 tokens\n",
      "Llama.generate: prefix-match hit\n",
      "\n",
      "llama_print_timings:        load time =     633.27 ms\n",
      "llama_print_timings:      sample time =       2.52 ms /     5 runs   (    0.50 ms per token,  1986.49 tokens per second)\n",
      "llama_print_timings: prompt eval time =     422.51 ms /   420 tokens (    1.01 ms per token,   994.05 tokens per second)\n",
      "llama_print_timings:        eval time =     107.33 ms /     4 runs   (   26.83 ms per token,    37.27 tokens per second)\n",
      "llama_print_timings:       total time =     534.61 ms /   424 tokens\n",
      "Llama.generate: prefix-match hit\n",
      "\n",
      "llama_print_timings:        load time =     633.27 ms\n",
      "llama_print_timings:      sample time =       2.46 ms /     5 runs   (    0.49 ms per token,  2033.35 tokens per second)\n",
      "llama_print_timings: prompt eval time =       0.00 ms /     0 tokens (    -nan ms per token,     -nan tokens per second)\n",
      "llama_print_timings:        eval time =     137.29 ms /     5 runs   (   27.46 ms per token,    36.42 tokens per second)\n",
      "llama_print_timings:       total time =     141.59 ms /     5 tokens\n",
      "Llama.generate: prefix-match hit\n",
      "\n",
      "llama_print_timings:        load time =     633.27 ms\n",
      "llama_print_timings:      sample time =       2.49 ms /     5 runs   (    0.50 ms per token,  2011.26 tokens per second)\n",
      "llama_print_timings: prompt eval time =     158.11 ms /   157 tokens (    1.01 ms per token,   992.95 tokens per second)\n",
      "llama_print_timings:        eval time =     103.78 ms /     4 runs   (   25.95 ms per token,    38.54 tokens per second)\n",
      "llama_print_timings:       total time =     267.18 ms /   161 tokens\n",
      "Llama.generate: prefix-match hit\n",
      "\n",
      "llama_print_timings:        load time =     633.27 ms\n",
      "llama_print_timings:      sample time =       2.74 ms /     5 runs   (    0.55 ms per token,  1826.82 tokens per second)\n",
      "llama_print_timings: prompt eval time =      72.09 ms /    52 tokens (    1.39 ms per token,   721.31 tokens per second)\n",
      "llama_print_timings:        eval time =     104.87 ms /     4 runs   (   26.22 ms per token,    38.14 tokens per second)\n",
      "llama_print_timings:       total time =     181.87 ms /    56 tokens\n",
      "Llama.generate: prefix-match hit\n",
      "\n",
      "llama_print_timings:        load time =     633.27 ms\n",
      "llama_print_timings:      sample time =       4.55 ms /     9 runs   (    0.51 ms per token,  1978.02 tokens per second)\n",
      "llama_print_timings: prompt eval time =      75.95 ms /    60 tokens (    1.27 ms per token,   789.98 tokens per second)\n",
      "llama_print_timings:        eval time =     211.16 ms /     8 runs   (   26.39 ms per token,    37.89 tokens per second)\n",
      "llama_print_timings:       total time =     294.16 ms /    68 tokens\n",
      "Llama.generate: prefix-match hit\n",
      "\n",
      "llama_print_timings:        load time =     633.27 ms\n",
      "llama_print_timings:      sample time =       2.47 ms /     5 runs   (    0.49 ms per token,  2021.02 tokens per second)\n",
      "llama_print_timings: prompt eval time =     330.46 ms /   336 tokens (    0.98 ms per token,  1016.76 tokens per second)\n",
      "llama_print_timings:        eval time =     107.75 ms /     4 runs   (   26.94 ms per token,    37.12 tokens per second)\n",
      "llama_print_timings:       total time =     443.66 ms /   340 tokens\n",
      "Llama.generate: prefix-match hit\n",
      "\n",
      "llama_print_timings:        load time =     633.27 ms\n",
      "llama_print_timings:      sample time =       2.59 ms /     5 runs   (    0.52 ms per token,  1932.74 tokens per second)\n",
      "llama_print_timings: prompt eval time =     483.38 ms /   511 tokens (    0.95 ms per token,  1057.14 tokens per second)\n",
      "llama_print_timings:        eval time =     108.72 ms /     4 runs   (   27.18 ms per token,    36.79 tokens per second)\n",
      "llama_print_timings:       total time =     598.34 ms /   515 tokens\n",
      "Llama.generate: prefix-match hit\n",
      "\n",
      "llama_print_timings:        load time =     633.27 ms\n",
      "llama_print_timings:      sample time =       2.42 ms /     5 runs   (    0.48 ms per token,  2062.71 tokens per second)\n",
      "llama_print_timings: prompt eval time =     422.32 ms /   420 tokens (    1.01 ms per token,   994.50 tokens per second)\n",
      "llama_print_timings:        eval time =     109.24 ms /     4 runs   (   27.31 ms per token,    36.62 tokens per second)\n",
      "llama_print_timings:       total time =     535.64 ms /   424 tokens\n",
      "Llama.generate: prefix-match hit\n",
      "\n",
      "llama_print_timings:        load time =     633.27 ms\n",
      "llama_print_timings:      sample time =       2.16 ms /     4 runs   (    0.54 ms per token,  1853.57 tokens per second)\n",
      "llama_print_timings: prompt eval time =     184.16 ms /   178 tokens (    1.03 ms per token,   966.57 tokens per second)\n",
      "llama_print_timings:        eval time =      79.29 ms /     3 runs   (   26.43 ms per token,    37.84 tokens per second)\n",
      "llama_print_timings:       total time =     268.12 ms /   181 tokens\n",
      "Llama.generate: prefix-match hit\n",
      "\n",
      "llama_print_timings:        load time =     633.27 ms\n",
      "llama_print_timings:      sample time =       2.46 ms /     5 runs   (    0.49 ms per token,  2032.52 tokens per second)\n",
      "llama_print_timings: prompt eval time =     420.26 ms /   420 tokens (    1.00 ms per token,   999.37 tokens per second)\n",
      "llama_print_timings:        eval time =     107.25 ms /     4 runs   (   26.81 ms per token,    37.29 tokens per second)\n",
      "llama_print_timings:       total time =     532.68 ms /   424 tokens\n",
      "Llama.generate: prefix-match hit\n",
      "\n",
      "llama_print_timings:        load time =     633.27 ms\n",
      "llama_print_timings:      sample time =       2.45 ms /     5 runs   (    0.49 ms per token,  2037.49 tokens per second)\n",
      "llama_print_timings: prompt eval time =       0.00 ms /     0 tokens (    -nan ms per token,     -nan tokens per second)\n",
      "llama_print_timings:        eval time =     137.38 ms /     5 runs   (   27.48 ms per token,    36.40 tokens per second)\n",
      "llama_print_timings:       total time =     141.76 ms /     5 tokens\n",
      "Llama.generate: prefix-match hit\n",
      "\n",
      "llama_print_timings:        load time =     633.27 ms\n",
      "llama_print_timings:      sample time =       2.37 ms /     5 runs   (    0.47 ms per token,  2111.49 tokens per second)\n",
      "llama_print_timings: prompt eval time =     122.27 ms /   121 tokens (    1.01 ms per token,   989.62 tokens per second)\n",
      "llama_print_timings:        eval time =     104.89 ms /     4 runs   (   26.22 ms per token,    38.14 tokens per second)\n",
      "llama_print_timings:       total time =     231.56 ms /   125 tokens\n",
      "Llama.generate: prefix-match hit\n",
      "\n",
      "llama_print_timings:        load time =     633.27 ms\n",
      "llama_print_timings:      sample time =       2.14 ms /     4 runs   (    0.54 ms per token,  1868.29 tokens per second)\n",
      "llama_print_timings: prompt eval time =     123.16 ms /   115 tokens (    1.07 ms per token,   933.73 tokens per second)\n",
      "llama_print_timings:        eval time =      77.81 ms /     3 runs   (   25.94 ms per token,    38.56 tokens per second)\n",
      "llama_print_timings:       total time =     204.82 ms /   118 tokens\n",
      "Llama.generate: prefix-match hit\n",
      "\n",
      "llama_print_timings:        load time =     633.27 ms\n",
      "llama_print_timings:      sample time =       2.43 ms /     5 runs   (    0.49 ms per token,  2056.77 tokens per second)\n",
      "llama_print_timings: prompt eval time =     424.12 ms /   421 tokens (    1.01 ms per token,   992.64 tokens per second)\n",
      "llama_print_timings:        eval time =     106.87 ms /     4 runs   (   26.72 ms per token,    37.43 tokens per second)\n",
      "llama_print_timings:       total time =     536.01 ms /   425 tokens\n",
      "Llama.generate: prefix-match hit\n",
      "\n",
      "llama_print_timings:        load time =     633.27 ms\n",
      "llama_print_timings:      sample time =       2.46 ms /     5 runs   (    0.49 ms per token,  2036.66 tokens per second)\n",
      "llama_print_timings: prompt eval time =     419.31 ms /   420 tokens (    1.00 ms per token,  1001.64 tokens per second)\n",
      "llama_print_timings:        eval time =     110.41 ms /     4 runs   (   27.60 ms per token,    36.23 tokens per second)\n",
      "llama_print_timings:       total time =     534.72 ms /   424 tokens\n",
      "Llama.generate: prefix-match hit\n",
      "\n",
      "llama_print_timings:        load time =     633.27 ms\n",
      "llama_print_timings:      sample time =       2.76 ms /     5 runs   (    0.55 ms per token,  1813.57 tokens per second)\n",
      "llama_print_timings: prompt eval time =     123.92 ms /   128 tokens (    0.97 ms per token,  1032.95 tokens per second)\n",
      "llama_print_timings:        eval time =     104.78 ms /     4 runs   (   26.19 ms per token,    38.18 tokens per second)\n",
      "llama_print_timings:       total time =     233.89 ms /   132 tokens\n",
      "Llama.generate: prefix-match hit\n",
      "\n",
      "llama_print_timings:        load time =     633.27 ms\n",
      "llama_print_timings:      sample time =       2.74 ms /     5 runs   (    0.55 ms per token,  1822.16 tokens per second)\n",
      "llama_print_timings: prompt eval time =     113.34 ms /   103 tokens (    1.10 ms per token,   908.81 tokens per second)\n",
      "llama_print_timings:        eval time =     103.58 ms /     4 runs   (   25.89 ms per token,    38.62 tokens per second)\n",
      "llama_print_timings:       total time =     222.01 ms /   107 tokens\n",
      "Llama.generate: prefix-match hit\n",
      "\n",
      "llama_print_timings:        load time =     633.27 ms\n",
      "llama_print_timings:      sample time =       2.46 ms /     5 runs   (    0.49 ms per token,  2030.04 tokens per second)\n",
      "llama_print_timings: prompt eval time =     424.93 ms /   432 tokens (    0.98 ms per token,  1016.63 tokens per second)\n",
      "llama_print_timings:        eval time =     107.45 ms /     4 runs   (   26.86 ms per token,    37.23 tokens per second)\n",
      "llama_print_timings:       total time =     537.90 ms /   436 tokens\n",
      "Llama.generate: prefix-match hit\n",
      "\n",
      "llama_print_timings:        load time =     633.27 ms\n",
      "llama_print_timings:      sample time =       2.44 ms /     5 runs   (    0.49 ms per token,  2049.18 tokens per second)\n",
      "llama_print_timings: prompt eval time =     424.32 ms /   421 tokens (    1.01 ms per token,   992.17 tokens per second)\n",
      "llama_print_timings:        eval time =     107.70 ms /     4 runs   (   26.93 ms per token,    37.14 tokens per second)\n",
      "llama_print_timings:       total time =     536.62 ms /   425 tokens\n",
      "Llama.generate: prefix-match hit\n",
      "\n",
      "llama_print_timings:        load time =     633.27 ms\n",
      "llama_print_timings:      sample time =       1.88 ms /     4 runs   (    0.47 ms per token,  2129.93 tokens per second)\n",
      "llama_print_timings: prompt eval time =      46.26 ms /    18 tokens (    2.57 ms per token,   389.09 tokens per second)\n",
      "llama_print_timings:        eval time =      77.59 ms /     3 runs   (   25.86 ms per token,    38.67 tokens per second)\n",
      "llama_print_timings:       total time =     127.19 ms /    21 tokens\n",
      "Llama.generate: prefix-match hit\n",
      "\n",
      "llama_print_timings:        load time =     633.27 ms\n",
      "llama_print_timings:      sample time =       2.14 ms /     4 runs   (    0.53 ms per token,  1872.66 tokens per second)\n",
      "llama_print_timings: prompt eval time =     185.44 ms /   182 tokens (    1.02 ms per token,   981.46 tokens per second)\n",
      "llama_print_timings:        eval time =      79.56 ms /     3 runs   (   26.52 ms per token,    37.71 tokens per second)\n",
      "llama_print_timings:       total time =     268.12 ms /   185 tokens\n",
      "Llama.generate: prefix-match hit\n",
      "\n",
      "llama_print_timings:        load time =     633.27 ms\n",
      "llama_print_timings:      sample time =       2.29 ms /     5 runs   (    0.46 ms per token,  2186.27 tokens per second)\n",
      "llama_print_timings: prompt eval time =      53.95 ms /    32 tokens (    1.69 ms per token,   593.19 tokens per second)\n",
      "llama_print_timings:        eval time =     109.54 ms /     4 runs   (   27.39 ms per token,    36.52 tokens per second)\n",
      "llama_print_timings:       total time =     167.75 ms /    36 tokens\n",
      "Llama.generate: prefix-match hit\n",
      "\n",
      "llama_print_timings:        load time =     633.27 ms\n",
      "llama_print_timings:      sample time =       2.58 ms /     5 runs   (    0.52 ms per token,  1939.49 tokens per second)\n",
      "llama_print_timings: prompt eval time =     483.02 ms /   511 tokens (    0.95 ms per token,  1057.92 tokens per second)\n",
      "llama_print_timings:        eval time =     108.06 ms /     4 runs   (   27.02 ms per token,    37.02 tokens per second)\n",
      "llama_print_timings:       total time =     595.76 ms /   515 tokens\n",
      "Llama.generate: prefix-match hit\n",
      "\n",
      "llama_print_timings:        load time =     633.27 ms\n",
      "llama_print_timings:      sample time =       1.73 ms /     4 runs   (    0.43 ms per token,  2308.14 tokens per second)\n",
      "llama_print_timings: prompt eval time =     111.38 ms /   101 tokens (    1.10 ms per token,   906.81 tokens per second)\n",
      "llama_print_timings:        eval time =      77.67 ms /     3 runs   (   25.89 ms per token,    38.62 tokens per second)\n",
      "llama_print_timings:       total time =     192.84 ms /   104 tokens\n",
      "Llama.generate: prefix-match hit\n",
      "\n",
      "llama_print_timings:        load time =     633.27 ms\n",
      "llama_print_timings:      sample time =       2.46 ms /     5 runs   (    0.49 ms per token,  2033.35 tokens per second)\n",
      "llama_print_timings: prompt eval time =     426.25 ms /   421 tokens (    1.01 ms per token,   987.68 tokens per second)\n",
      "llama_print_timings:        eval time =     107.54 ms /     4 runs   (   26.88 ms per token,    37.20 tokens per second)\n",
      "llama_print_timings:       total time =     538.73 ms /   425 tokens\n",
      "Llama.generate: prefix-match hit\n",
      "\n",
      "llama_print_timings:        load time =     633.27 ms\n",
      "llama_print_timings:      sample time =       2.63 ms /     5 runs   (    0.53 ms per token,  1899.70 tokens per second)\n",
      "llama_print_timings: prompt eval time =      75.98 ms /    52 tokens (    1.46 ms per token,   684.35 tokens per second)\n",
      "llama_print_timings:        eval time =     104.64 ms /     4 runs   (   26.16 ms per token,    38.23 tokens per second)\n",
      "llama_print_timings:       total time =     185.15 ms /    56 tokens\n",
      "Llama.generate: prefix-match hit\n",
      "\n",
      "llama_print_timings:        load time =     633.27 ms\n",
      "llama_print_timings:      sample time =       2.44 ms /     5 runs   (    0.49 ms per token,  2045.83 tokens per second)\n",
      "llama_print_timings: prompt eval time =     423.15 ms /   421 tokens (    1.01 ms per token,   994.92 tokens per second)\n",
      "llama_print_timings:        eval time =     107.91 ms /     4 runs   (   26.98 ms per token,    37.07 tokens per second)\n",
      "llama_print_timings:       total time =     536.03 ms /   425 tokens\n",
      "Llama.generate: prefix-match hit\n",
      "\n",
      "llama_print_timings:        load time =     633.27 ms\n",
      "llama_print_timings:      sample time =       2.61 ms /     5 runs   (    0.52 ms per token,  1917.18 tokens per second)\n",
      "llama_print_timings: prompt eval time =     112.64 ms /   109 tokens (    1.03 ms per token,   967.68 tokens per second)\n",
      "llama_print_timings:        eval time =     104.39 ms /     4 runs   (   26.10 ms per token,    38.32 tokens per second)\n",
      "llama_print_timings:       total time =     220.73 ms /   113 tokens\n",
      "Llama.generate: prefix-match hit\n",
      "\n",
      "llama_print_timings:        load time =     633.27 ms\n",
      "llama_print_timings:      sample time =       2.60 ms /     5 runs   (    0.52 ms per token,  1926.78 tokens per second)\n",
      "llama_print_timings: prompt eval time =     480.38 ms /   505 tokens (    0.95 ms per token,  1051.25 tokens per second)\n",
      "llama_print_timings:        eval time =     107.92 ms /     4 runs   (   26.98 ms per token,    37.06 tokens per second)\n",
      "llama_print_timings:       total time =     593.63 ms /   509 tokens\n",
      "Llama.generate: prefix-match hit\n",
      "\n",
      "llama_print_timings:        load time =     633.27 ms\n",
      "llama_print_timings:      sample time =      10.75 ms /    20 runs   (    0.54 ms per token,  1861.16 tokens per second)\n",
      "llama_print_timings: prompt eval time =     209.20 ms /   205 tokens (    1.02 ms per token,   979.91 tokens per second)\n",
      "llama_print_timings:        eval time =     520.15 ms /    19 runs   (   27.38 ms per token,    36.53 tokens per second)\n",
      "llama_print_timings:       total time =     748.42 ms /   224 tokens\n",
      "Llama.generate: prefix-match hit\n",
      "\n",
      "llama_print_timings:        load time =     633.27 ms\n",
      "llama_print_timings:      sample time =       2.46 ms /     5 runs   (    0.49 ms per token,  2033.35 tokens per second)\n",
      "llama_print_timings: prompt eval time =     431.18 ms /   437 tokens (    0.99 ms per token,  1013.51 tokens per second)\n",
      "llama_print_timings:        eval time =     109.42 ms /     4 runs   (   27.36 ms per token,    36.56 tokens per second)\n",
      "llama_print_timings:       total time =     545.46 ms /   441 tokens\n",
      "Llama.generate: prefix-match hit\n",
      "\n",
      "llama_print_timings:        load time =     633.27 ms\n",
      "llama_print_timings:      sample time =       2.42 ms /     5 runs   (    0.48 ms per token,  2062.71 tokens per second)\n",
      "llama_print_timings: prompt eval time =     425.97 ms /   420 tokens (    1.01 ms per token,   985.99 tokens per second)\n",
      "llama_print_timings:        eval time =     108.68 ms /     4 runs   (   27.17 ms per token,    36.81 tokens per second)\n",
      "llama_print_timings:       total time =     538.91 ms /   424 tokens\n",
      "Llama.generate: prefix-match hit\n",
      "\n",
      "llama_print_timings:        load time =     633.27 ms\n",
      "llama_print_timings:      sample time =       2.67 ms /     5 runs   (    0.53 ms per token,  1871.96 tokens per second)\n",
      "llama_print_timings: prompt eval time =      74.92 ms /    52 tokens (    1.44 ms per token,   694.09 tokens per second)\n",
      "llama_print_timings:        eval time =     105.25 ms /     4 runs   (   26.31 ms per token,    38.00 tokens per second)\n",
      "llama_print_timings:       total time =     184.65 ms /    56 tokens\n",
      "Llama.generate: prefix-match hit\n",
      "\n",
      "llama_print_timings:        load time =     633.27 ms\n",
      "llama_print_timings:      sample time =       2.55 ms /     5 runs   (    0.51 ms per token,  1957.71 tokens per second)\n",
      "llama_print_timings: prompt eval time =     485.14 ms /   511 tokens (    0.95 ms per token,  1053.29 tokens per second)\n",
      "llama_print_timings:        eval time =     108.34 ms /     4 runs   (   27.08 ms per token,    36.92 tokens per second)\n",
      "llama_print_timings:       total time =     598.70 ms /   515 tokens\n",
      "Llama.generate: prefix-match hit\n",
      "\n",
      "llama_print_timings:        load time =     633.27 ms\n",
      "llama_print_timings:      sample time =       2.48 ms /     5 runs   (    0.50 ms per token,  2019.39 tokens per second)\n",
      "llama_print_timings: prompt eval time =     210.14 ms /   198 tokens (    1.06 ms per token,   942.25 tokens per second)\n",
      "llama_print_timings:        eval time =     108.36 ms /     4 runs   (   27.09 ms per token,    36.91 tokens per second)\n",
      "llama_print_timings:       total time =     323.08 ms /   202 tokens\n",
      "Llama.generate: prefix-match hit\n",
      "\n",
      "llama_print_timings:        load time =     633.27 ms\n",
      "llama_print_timings:      sample time =       2.43 ms /     5 runs   (    0.49 ms per token,  2061.01 tokens per second)\n",
      "llama_print_timings: prompt eval time =     426.42 ms /   420 tokens (    1.02 ms per token,   984.95 tokens per second)\n",
      "llama_print_timings:        eval time =     109.62 ms /     4 runs   (   27.41 ms per token,    36.49 tokens per second)\n",
      "llama_print_timings:       total time =     541.16 ms /   424 tokens\n",
      "Llama.generate: prefix-match hit\n",
      "\n",
      "llama_print_timings:        load time =     633.27 ms\n",
      "llama_print_timings:      sample time =       8.85 ms /    17 runs   (    0.52 ms per token,  1921.77 tokens per second)\n",
      "llama_print_timings: prompt eval time =      52.92 ms /    31 tokens (    1.71 ms per token,   585.79 tokens per second)\n",
      "llama_print_timings:        eval time =     430.01 ms /    16 runs   (   26.88 ms per token,    37.21 tokens per second)\n",
      "llama_print_timings:       total time =     497.75 ms /    47 tokens\n",
      "Llama.generate: prefix-match hit\n",
      "\n",
      "llama_print_timings:        load time =     633.27 ms\n",
      "llama_print_timings:      sample time =      20.32 ms /    39 runs   (    0.52 ms per token,  1919.20 tokens per second)\n",
      "llama_print_timings: prompt eval time =      63.57 ms /    44 tokens (    1.44 ms per token,   692.12 tokens per second)\n",
      "llama_print_timings:        eval time =    1028.49 ms /    38 runs   (   27.07 ms per token,    36.95 tokens per second)\n",
      "llama_print_timings:       total time =    1130.15 ms /    82 tokens\n",
      "Llama.generate: prefix-match hit\n",
      "\n",
      "llama_print_timings:        load time =     633.27 ms\n",
      "llama_print_timings:      sample time =       2.58 ms /     5 runs   (    0.52 ms per token,  1935.73 tokens per second)\n",
      "llama_print_timings: prompt eval time =     483.15 ms /   511 tokens (    0.95 ms per token,  1057.64 tokens per second)\n",
      "llama_print_timings:        eval time =     109.95 ms /     4 runs   (   27.49 ms per token,    36.38 tokens per second)\n",
      "llama_print_timings:       total time =     598.24 ms /   515 tokens\n",
      "Llama.generate: prefix-match hit\n",
      "\n",
      "llama_print_timings:        load time =     633.27 ms\n",
      "llama_print_timings:      sample time =       2.14 ms /     4 runs   (    0.53 ms per token,  1870.91 tokens per second)\n",
      "llama_print_timings: prompt eval time =     124.36 ms /   123 tokens (    1.01 ms per token,   989.06 tokens per second)\n",
      "llama_print_timings:        eval time =      77.88 ms /     3 runs   (   25.96 ms per token,    38.52 tokens per second)\n",
      "llama_print_timings:       total time =     206.25 ms /   126 tokens\n",
      "Llama.generate: prefix-match hit\n",
      "\n",
      "llama_print_timings:        load time =     633.27 ms\n",
      "llama_print_timings:      sample time =       4.76 ms /     9 runs   (    0.53 ms per token,  1890.36 tokens per second)\n",
      "llama_print_timings: prompt eval time =     156.96 ms /   134 tokens (    1.17 ms per token,   853.74 tokens per second)\n",
      "llama_print_timings:        eval time =     214.37 ms /     8 runs   (   26.80 ms per token,    37.32 tokens per second)\n",
      "llama_print_timings:       total time =     381.23 ms /   142 tokens\n",
      "Llama.generate: prefix-match hit\n",
      "\n",
      "llama_print_timings:        load time =     633.27 ms\n",
      "llama_print_timings:      sample time =       2.57 ms /     5 runs   (    0.51 ms per token,  1948.56 tokens per second)\n",
      "llama_print_timings: prompt eval time =     325.57 ms /   290 tokens (    1.12 ms per token,   890.75 tokens per second)\n",
      "llama_print_timings:        eval time =     107.39 ms /     4 runs   (   26.85 ms per token,    37.25 tokens per second)\n",
      "llama_print_timings:       total time =     438.18 ms /   294 tokens\n",
      "Llama.generate: prefix-match hit\n",
      "\n",
      "llama_print_timings:        load time =     633.27 ms\n",
      "llama_print_timings:      sample time =      19.84 ms /    38 runs   (    0.52 ms per token,  1915.61 tokens per second)\n",
      "llama_print_timings: prompt eval time =      62.94 ms /    39 tokens (    1.61 ms per token,   619.61 tokens per second)\n",
      "llama_print_timings:        eval time =    1005.94 ms /    37 runs   (   27.19 ms per token,    36.78 tokens per second)\n",
      "llama_print_timings:       total time =    1104.71 ms /    76 tokens\n",
      "Llama.generate: prefix-match hit\n",
      "\n",
      "llama_print_timings:        load time =     633.27 ms\n",
      "llama_print_timings:      sample time =       2.43 ms /     5 runs   (    0.49 ms per token,  2061.86 tokens per second)\n",
      "llama_print_timings: prompt eval time =     423.46 ms /   420 tokens (    1.01 ms per token,   991.84 tokens per second)\n",
      "llama_print_timings:        eval time =     109.83 ms /     4 runs   (   27.46 ms per token,    36.42 tokens per second)\n",
      "llama_print_timings:       total time =     538.23 ms /   424 tokens\n",
      "Llama.generate: prefix-match hit\n",
      "\n",
      "llama_print_timings:        load time =     633.27 ms\n",
      "llama_print_timings:      sample time =      81.53 ms /   155 runs   (    0.53 ms per token,  1901.23 tokens per second)\n",
      "llama_print_timings: prompt eval time =     128.64 ms /   122 tokens (    1.05 ms per token,   948.38 tokens per second)\n",
      "llama_print_timings:        eval time =    4232.30 ms /   154 runs   (   27.48 ms per token,    36.39 tokens per second)\n",
      "llama_print_timings:       total time =    4519.83 ms /   276 tokens\n"
     ]
    }
   ],
   "source": [
    "# capture lengthy model timing output to variable\n",
    "%%capture gen_out\n",
    "new_data['mistral_response'] = new_data['narrative'].apply(lambda x: generate_mistral_response(system_message, zero_shot_prompt_template.format(input=x)))"
   ]
  },
  {
   "cell_type": "code",
   "execution_count": 15,
   "metadata": {},
   "outputs": [
    {
     "data": {
      "text/plain": [
       "mistral_response\n",
       "credit_reporting                                                                                                                                                                                                                                                                                                                                                                                                                                                                                                                                                                                                                                                                                                                                                                     27\n",
       "debt_collection                                                                                                                                                                                                                                                                                                                                                                                                                                                                                                                                                                                                                                                                                                                                                                       7\n",
       "credit\\_reporting                                                                                                                                                                                                                                                                                                                                                                                                                                                                                                                                                                                                                                                                                                                                                                     6\n",
       "retail_banking                                                                                                                                                                                                                                                                                                                                                                                                                                                                                                                                                                                                                                                                                                                                                                        2\n",
       "mortgages_and_loans                                                                                                                                                                                                                                                                                                                                                                                                                                                                                                                                                                                                                                                                                                                                                                   2\n",
       "mortgages\\_and\\_loans                                                                                                                                                                                                                                                                                                                                                                                                                                                                                                                                                                                                                                                                                                                                                                 1\n",
       "credit_reporting or debt_collection (depending on the specific context of the text)                                                                                                                                                                                                                                                                                                                                                                                                                                                                                                                                                                                                                                                                                                   1\n",
       "Based on the input text, the product classification is: credit\\_reporting.                                                                                                                                                                                                                                                                                                                                                                                                                                                                                                                                                                                                                                                                                                            1\n",
       "credit\\_reporting. This text appears to be related to a discussion about identity fraud and the unauthorized use of personal information for credit applications, which falls under the category of credit reporting.                                                                                                                                                                                                                                                                                                                                                                                                                                                                                                                                                                 1\n",
       "credit\\_card. This text appears to be related to a credit card product or service, specifically discussing Amex and late fees during the New York State COVID-19 relief plan.                                                                                                                                                                                                                                                                                                                                                                                                                                                                                                                                                                                                         1\n",
       "Based on the input text, it appears to be discussing a vehicle sale transaction. However, there are no clear indications of specific product classifications such as credit cards, retail banking, credit reporting, mortgages and loans, or debt collection. Therefore, I cannot provide a definitive product classification based on this text alone.\\n\\nHowever, if we had to make an educated guess based on the context, it seems that this transaction may involve some elements of both retail banking (sale of used vehicle) and possibly mortgages and loans (mention of existing lease deal and payoff amount). But without more information, it's difficult to be certain.\\n\\nTherefore, I cannot provide a definitive product classification based on the given text.     1\n",
       "Name: count, dtype: int64"
      ]
     },
     "execution_count": 15,
     "metadata": {},
     "output_type": "execute_result"
    }
   ],
   "source": [
    "new_data['mistral_response'].value_counts()"
   ]
  },
  {
   "cell_type": "code",
   "execution_count": 40,
   "metadata": {
    "id": "10Bulypzkwjt"
   },
   "outputs": [],
   "source": [
    "def extract_category(text):\n",
    "    # Define the regex pattern to match \"category:\" or \"Category:\" followed by a word\n",
    "    pattern = r'category:\\s*(\\w+)'  # The pattern itself remains the same\n",
    "\n",
    "    # Use re.search with the re.IGNORECASE flag to make it case-insensitive\n",
    "    match = re.search(pattern, text, re.IGNORECASE)\n",
    "\n",
    "    # If a match is found, return the captured group, else return None\n",
    "    if match:\n",
    "        return match.group(1)\n",
    "    else:\n",
    "        pattern1 = r'(credit_card|retail_banking|credit_reporting|mortgages_and_loans|debt_collection)'\n",
    "        match = re.search(pattern1, text.replace('\\_','_'), re.IGNORECASE) # strip out random backslashes before '_'\n",
    "        if match:\n",
    "            return match.group()\n",
    "        else:\n",
    "            print(\"\\nNo match: \", text)\n",
    "            return ''"
   ]
  },
  {
   "cell_type": "code",
   "execution_count": 17,
   "metadata": {
    "id": "w-REbjsCnhaq"
   },
   "outputs": [
    {
     "name": "stdout",
     "output_type": "stream",
     "text": [
      "No match:   Based on the input text, it appears to be discussing a vehicle sale transaction. However, there are no clear indications of specific product classifications such as credit cards, retail banking, credit reporting, mortgages and loans, or debt collection. Therefore, I cannot provide a definitive product classification based on this text alone.\n",
      "\n",
      "However, if we had to make an educated guess based on the context, it seems that this transaction may involve some elements of both retail banking (sale of used vehicle) and possibly mortgages and loans (mention of existing lease deal and payoff amount). But without more information, it's difficult to be certain.\n",
      "\n",
      "Therefore, I cannot provide a definitive product classification based on the given text.\n"
     ]
    }
   ],
   "source": [
    "# example - new_data['mistral_response_cleaned'] = new_data['narrative'].apply(lambda x:______ )\n",
    "new_data['mistral_response_cleaned'] = new_data['mistral_response'].apply(lambda x: extract_category(x))"
   ]
  },
  {
   "cell_type": "code",
   "execution_count": 18,
   "metadata": {},
   "outputs": [
    {
     "data": {
      "text/plain": [
       "product\n",
       "credit_reporting       37\n",
       "credit_card             5\n",
       "mortgages_and_loans     4\n",
       "retail_banking          3\n",
       "debt_collection         1\n",
       "Name: count, dtype: int64"
      ]
     },
     "execution_count": 18,
     "metadata": {},
     "output_type": "execute_result"
    }
   ],
   "source": [
    "new_data['product'].value_counts()"
   ]
  },
  {
   "cell_type": "code",
   "execution_count": 22,
   "metadata": {},
   "outputs": [
    {
     "data": {
      "text/plain": [
       "6"
      ]
     },
     "execution_count": 22,
     "metadata": {},
     "output_type": "execute_result"
    }
   ],
   "source": [
    "new_data['mistral_response_cleaned'].value_counts().shape[0]"
   ]
  },
  {
   "cell_type": "markdown",
   "metadata": {
    "id": "T9t6gsZVsL2b"
   },
   "source": [
    "### **Q14: Calculate the F1 score** **(1 Marks)**"
   ]
  },
  {
   "cell_type": "code",
   "execution_count": 23,
   "metadata": {
    "id": "CeUoZb4ttDCL"
   },
   "outputs": [
    {
     "name": "stdout",
     "output_type": "stream",
     "text": [
      "F1 Score: 0.0\n"
     ]
    }
   ],
   "source": [
    "# Calculate F1 score for 'product' and 'mistral_response'\n",
    "f1_1 =  f1_score(new_data['product'], new_data['mistral_response'], average=\"micro\")\n",
    "print(f'F1 Score: {f1_1}')"
   ]
  },
  {
   "cell_type": "code",
   "execution_count": 24,
   "metadata": {
    "id": "ynzQvTi8tCcp"
   },
   "outputs": [
    {
     "name": "stdout",
     "output_type": "stream",
     "text": [
      "F1 Score: 0.8\n"
     ]
    }
   ],
   "source": [
    "# Calculate F1 score for 'product' and 'mistral_response_cleaned'\n",
    "f1_2 =  f1_score(new_data['product'], new_data['mistral_response_cleaned'], average=\"micro\")\n",
    "print(f'F1 Score: {f1_2}')"
   ]
  },
  {
   "cell_type": "markdown",
   "metadata": {
    "id": "803ZuG7OtSSj"
   },
   "source": [
    "### **Q15: Explain the difference in F1 scores between mistral_response and mistral_response_cleaned.** **(1 Marks)**"
   ]
  },
  {
   "cell_type": "markdown",
   "metadata": {},
   "source": [
    "The F1 score is zero for the raw Mistral responses because the none of the response values exactly match the actual categorical value.<br>\n",
    "The F1 score for the cleaned Mistral responses shows the model achieved a reasonable degree of accuracy once the raw responses were mapped to one of the five categories.<br>\n",
    "The most mis-categorized feature values were:<br>\n",
    " - credit_card\n",
    " - credit_reporting\n",
    " - retail_banking"
   ]
  },
  {
   "cell_type": "code",
   "execution_count": 25,
   "metadata": {},
   "outputs": [
    {
     "data": {
      "image/png": "[encoded data removed]",
      "text/plain": [
       "<Figure size 640x480 with 2 Axes>"
      ]
     },
     "metadata": {},
     "output_type": "display_data"
    }
   ],
   "source": [
    "# Creating confusion matrix\n",
    "cnf_mt = confusion_matrix(new_data['product'], new_data['mistral_response_cleaned'])\n",
    "\n",
    "# Visualizing confusion matrix using a heatmap\n",
    "num_cats = new_data['mistral_response_cleaned'].value_counts().shape[0]\n",
    "if num_cats == 5:\n",
    "  labels=['credit_card','credit_reporting','debt_collection','mortgages_and_loans','retail_banking']\n",
    "elif num_cats == 6:\n",
    "  labels=['<no-match>','credit_card','credit_reporting','debt_collection','mortgages_and_loans','retail_banking']\n",
    "    \n",
    "sns.heatmap(cnf_mt, annot=True, fmt='d', cmap='Blues', xticklabels=labels, yticklabels=labels)\n",
    "plt.xlabel('Predicted')\n",
    "plt.ylabel('Actual')\n",
    "plt.title('Confusion Matrix')\n",
    "plt.show()"
   ]
  },
  {
   "cell_type": "markdown",
   "metadata": {
    "id": "T0YUCSXAnx3y"
   },
   "source": [
    "## **Few-Shot Prompting (6 Marks)**"
   ]
  },
  {
   "cell_type": "markdown",
   "metadata": {
    "id": "wgxdRjW_wHId"
   },
   "source": [
    "### **Q16: Prepare examples for a few-shot prompt, formulate the prompt, and generate the Mistral response. (4 Marks)**"
   ]
  },
  {
   "cell_type": "markdown",
   "metadata": {
    "id": "hPuH7_ravBtS"
   },
   "source": [
    "**Generate a set of gold examples by randomly selecting 10 instances of user_input and assistant_output from dataset ensuring a balanced representation with 2 examples from each class.**"
   ]
  },
  {
   "cell_type": "code",
   "execution_count": 26,
   "metadata": {
    "id": "iO9Wj19_n_LO"
   },
   "outputs": [
    {
     "name": "stdout",
     "output_type": "stream",
     "text": [
      "gold_example[0]:  {'narrative': 'called request new york state covid relief plan day interest fee waived amex provided relief leading late payment amex refused honor relief day gap insists charging late fee', 'product': 'credit_card'}\n",
      "Test Set Shape: (490, 3)\n",
      "Gold Examples Shape: (10, 3)\n"
     ]
    }
   ],
   "source": [
    "# Separate product classifications by category\n",
    "import json\n",
    "review_1 = data[data['product'] == 'credit_card']\n",
    "review_2 = data[data['product'] == 'retail_banking']\n",
    "review_3 = data[data['product'] == 'credit_reporting']\n",
    "review_4 = data[data['product'] == 'mortgages_and_loans']\n",
    "review_5 = data[data['product'] == 'debt_collection']\n",
    "\n",
    "# Sample 2 product classifications from each category for gold examples\n",
    "gold_examples_1 = review_1.sample(2, random_state=40)\n",
    "gold_examples_2 = review_2.sample(2, random_state=40)\n",
    "gold_examples_3 = review_3.sample(2, random_state=40)\n",
    "gold_examples_4 = review_4.sample(2, random_state=40)\n",
    "gold_examples_5 = review_5.sample(2, random_state=40)\n",
    "\n",
    "# Concatenate product classification examples\n",
    "gold_examples_df = pd.concat([gold_examples_1,gold_examples_2,gold_examples_3,gold_examples_4,gold_examples_5 ])\n",
    "\n",
    "# Create the training set by excluding gold examples\n",
    "test_df = data.drop(index=gold_examples_df.index)\n",
    "\n",
    "# Convert gold examples to JSON\n",
    "columns_to_select = ['narrative', 'product']\n",
    "gold_examples_json = gold_examples_df[columns_to_select].to_json(orient='records')\n",
    "\n",
    "# Print the first record from the gold examples JSON\n",
    "print(\"gold_example[0]: \", json.loads(gold_examples_json)[0])\n",
    "\n",
    "# Print the shapes of the datasets\n",
    "print(\"Test Set Shape:\", test_df.shape)\n",
    "print(\"Gold Examples Shape:\", gold_examples_df.shape)"
   ]
  },
  {
   "cell_type": "markdown",
   "metadata": {
    "id": "1i8taCkTwqOl"
   },
   "source": [
    "Define your **system_message**.\n",
    "\n",
    "Define **first_turn_template**, **example_template** and **prediction template**\n",
    "\n",
    "**create few shot prompt** using gold examples and system_message\n",
    "\n",
    "Randomly select 50 rows from test_df as test_data\n",
    "\n",
    "Create **mistral_response** and **mistral_response_cleaned** columns"
   ]
  },
  {
   "cell_type": "code",
   "execution_count": 27,
   "metadata": {
    "id": "iPzpBeWmzSIH"
   },
   "outputs": [],
   "source": [
    "system_message = \"\"\"You are an AI evaluating the provided input text below to generate a singular product classification.\n",
    "A singular product classification is exactly one of:\n",
    "- credit_card\n",
    "- retail_banking\n",
    "- credit_reporting\n",
    "- mortgages_and_loans\n",
    "- debt_collection\n",
    "Be concise. Respond only with a singular product classification as defined above.\n",
    "Input text will be delimited by triple backticks.\"\"\""
   ]
  },
  {
   "cell_type": "code",
   "execution_count": 28,
   "metadata": {
    "id": "2bPjQJs_zRoo"
   },
   "outputs": [],
   "source": [
    "mistral_first_turn_template = \"\"\"[INST]\\n <<SYS>> \\n{system_message}\\n <</SYS>>```{user_message}```[/INST]{assistant_message}\"\"\"\n",
    "mistral_examples_template = \"\"\"[INST]```{user_message}```[/INST] {assistant_message}\"\"\"\n",
    "mistral_prediction_template = \"\"\"[INST]```{user_message}```[/INST]\"\"\""
   ]
  },
  {
   "cell_type": "code",
   "execution_count": 29,
   "metadata": {
    "id": "X07_kNji0vTp"
   },
   "outputs": [],
   "source": [
    "def create_few_shot_prompt(_system_message, examples_df):\n",
    "\n",
    "    \"\"\"\n",
    "    Return a prompt message in the format expected by Mistral 7b.\n",
    "    10 examples are selected randomly as golden examples to form the\n",
    "    few-shot prompt.\n",
    "    We then loop through each example and parse the narrative as the user message\n",
    "    and the product as the assistant message.\n",
    "\n",
    "    Args:\n",
    "        system_message (str): system message with instructions for classification\n",
    "        examples(DataFrame): A DataFrame with examples (product + narrative + summary)\n",
    "        to form the few-shot prompt.\n",
    "\n",
    "    Output:\n",
    "        few_shot_prompt (str): A prompt string in the Mistral format\n",
    "    \"\"\"\n",
    "\n",
    "    few_shot_prompt = ''\n",
    "\n",
    "    columns_to_select = ['narrative','product']\n",
    "\n",
    "    examples = (\n",
    "        examples_df.loc[:, columns_to_select].to_json(orient='records')\n",
    "    )\n",
    "\n",
    "    for idx, example in enumerate(json.loads(examples)):\n",
    "        user_input_example = example['narrative']\n",
    "        assistant_output_example = example['product']\n",
    "\n",
    "        if idx == 0:\n",
    "            few_shot_prompt += mistral_first_turn_template.format(\n",
    "                system_message=_system_message,\n",
    "                user_message=user_input_example,\n",
    "                assistant_message=assistant_output_example\n",
    "            )\n",
    "        else:\n",
    "            few_shot_prompt += mistral_examples_template.format(\n",
    "                user_message=user_input_example,\n",
    "                assistant_message=assistant_output_example\n",
    "            )\n",
    "\n",
    "    return few_shot_prompt"
   ]
  },
  {
   "cell_type": "code",
   "execution_count": 73,
   "metadata": {
    "id": "yHfPlD9o1G7M"
   },
   "outputs": [
    {
     "ename": "NameError",
     "evalue": "name 'create_few_shot_prompt' is not defined",
     "output_type": "error",
     "traceback": [
      "\u001b[0;31m---------------------------------------------------------------------------\u001b[0m",
      "\u001b[0;31mNameError\u001b[0m                                 Traceback (most recent call last)",
      "Cell \u001b[0;32mIn[73], line 1\u001b[0m\n\u001b[0;32m----> 1\u001b[0m few_shot_prompt \u001b[38;5;241m=\u001b[39m \u001b[43mcreate_few_shot_prompt\u001b[49m(system_message, gold_examples_df)\n\u001b[1;32m      2\u001b[0m \u001b[38;5;66;03m#print(few_shot_prompt)\u001b[39;00m\n",
      "\u001b[0;31mNameError\u001b[0m: name 'create_few_shot_prompt' is not defined"
     ]
    }
   ],
   "source": [
    "few_shot_prompt = create_few_shot_prompt(system_message, gold_examples_df)\n",
    "#print(few_shot_prompt)"
   ]
  },
  {
   "cell_type": "code",
   "execution_count": 31,
   "metadata": {
    "id": "EmTmY2oq3PRv"
   },
   "outputs": [],
   "source": [
    "def fs_generate_prompt(_few_shot_prompt, _user_input):\n",
    "    _prompt =  _few_shot_prompt + mistral_prediction_template.format(user_message=_user_input)\n",
    "                                 # ^^ accessing a global variable is generally considered bad form, but whatever\n",
    "    return _prompt"
   ]
  },
  {
   "cell_type": "code",
   "execution_count": 32,
   "metadata": {
    "id": "GKrndCFRCJhK"
   },
   "outputs": [],
   "source": [
    "def generate_mistral_response(_sys_prompt, _input_text):\n",
    "\n",
    "    # Combine user_prompt and system_message to create the prompt\n",
    "    prompt = fs_generate_prompt(_sys_prompt, _input_text)\n",
    "\n",
    "    # Generate a response from the LLaMA model\n",
    "    response = lcpp_llm(\n",
    "        prompt=prompt,\n",
    "        max_tokens=1200,\n",
    "        temperature=0,\n",
    "        top_p=0.95,\n",
    "        repeat_penalty=1.2,\n",
    "        top_k=50,\n",
    "        stop=['/s'],\n",
    "        echo=False\n",
    "    )\n",
    "\n",
    "    # Extract and return the response text\n",
    "    response_text = response[\"choices\"][0][\"text\"]\n",
    "    return response_text"
   ]
  },
  {
   "cell_type": "code",
   "execution_count": 33,
   "metadata": {
    "id": "FKYOjm7LDLJj"
   },
   "outputs": [],
   "source": [
    "# Randomly select 50 rows\n",
    "test_data = data.sample(n=50, random_state=40)"
   ]
  },
  {
   "cell_type": "code",
   "execution_count": 34,
   "metadata": {
    "id": "JdsjoaP4DXIk"
   },
   "outputs": [
    {
     "name": "stderr",
     "output_type": "stream",
     "text": [
      "Llama.generate: prefix-match hit\n",
      "\n",
      "llama_print_timings:        load time =     633.27 ms\n",
      "llama_print_timings:      sample time =     618.40 ms /  1200 runs   (    0.52 ms per token,  1940.49 tokens per second)\n",
      "llama_print_timings: prompt eval time =    2164.04 ms /  2078 tokens (    1.04 ms per token,   960.24 tokens per second)\n",
      "llama_print_timings:        eval time =   38304.56 ms /  1199 runs   (   31.95 ms per token,    31.30 tokens per second)\n",
      "llama_print_timings:       total time =   42880.56 ms /  3277 tokens\n",
      "Llama.generate: prefix-match hit\n",
      "\n",
      "llama_print_timings:        load time =     633.27 ms\n",
      "llama_print_timings:      sample time =      55.04 ms /   106 runs   (    0.52 ms per token,  1925.94 tokens per second)\n",
      "llama_print_timings: prompt eval time =     596.65 ms /   506 tokens (    1.18 ms per token,   848.07 tokens per second)\n",
      "llama_print_timings:        eval time =    3348.56 ms /   105 runs   (   31.89 ms per token,    31.36 tokens per second)\n",
      "llama_print_timings:       total time =    4060.34 ms /   611 tokens\n",
      "Llama.generate: prefix-match hit\n",
      "\n",
      "llama_print_timings:        load time =     633.27 ms\n",
      "llama_print_timings:      sample time =      90.31 ms /   172 runs   (    0.53 ms per token,  1904.66 tokens per second)\n",
      "llama_print_timings: prompt eval time =     227.02 ms /   183 tokens (    1.24 ms per token,   806.10 tokens per second)\n",
      "llama_print_timings:        eval time =    5360.58 ms /   171 runs   (   31.35 ms per token,    31.90 tokens per second)\n",
      "llama_print_timings:       total time =    5782.44 ms /   354 tokens\n",
      "Llama.generate: prefix-match hit\n",
      "\n",
      "llama_print_timings:        load time =     633.27 ms\n",
      "llama_print_timings:      sample time =      55.12 ms /   106 runs   (    0.52 ms per token,  1923.25 tokens per second)\n",
      "llama_print_timings: prompt eval time =     596.58 ms /   506 tokens (    1.18 ms per token,   848.17 tokens per second)\n",
      "llama_print_timings:        eval time =    3356.18 ms /   105 runs   (   31.96 ms per token,    31.29 tokens per second)\n",
      "llama_print_timings:       total time =    4071.30 ms /   611 tokens\n",
      "Llama.generate: prefix-match hit\n",
      "\n",
      "llama_print_timings:        load time =     633.27 ms\n",
      "llama_print_timings:      sample time =      23.32 ms /    49 runs   (    0.48 ms per token,  2100.93 tokens per second)\n",
      "llama_print_timings: prompt eval time =     101.82 ms /    75 tokens (    1.36 ms per token,   736.57 tokens per second)\n",
      "llama_print_timings:        eval time =    1492.05 ms /    48 runs   (   31.08 ms per token,    32.17 tokens per second)\n",
      "llama_print_timings:       total time =    1645.42 ms /   123 tokens\n",
      "Llama.generate: prefix-match hit\n",
      "\n",
      "llama_print_timings:        load time =     633.27 ms\n",
      "llama_print_timings:      sample time =      24.18 ms /    47 runs   (    0.51 ms per token,  1943.43 tokens per second)\n",
      "llama_print_timings: prompt eval time =     519.11 ms /   421 tokens (    1.23 ms per token,   811.00 tokens per second)\n",
      "llama_print_timings:        eval time =    1459.37 ms /    46 runs   (   31.73 ms per token,    31.52 tokens per second)\n",
      "llama_print_timings:       total time =    2026.60 ms /   467 tokens\n",
      "Llama.generate: prefix-match hit\n",
      "\n",
      "llama_print_timings:        load time =     633.27 ms\n",
      "llama_print_timings:      sample time =       4.52 ms /     9 runs   (    0.50 ms per token,  1991.59 tokens per second)\n",
      "llama_print_timings: prompt eval time =     118.45 ms /    88 tokens (    1.35 ms per token,   742.92 tokens per second)\n",
      "llama_print_timings:        eval time =     246.67 ms /     8 runs   (   30.83 ms per token,    32.43 tokens per second)\n",
      "llama_print_timings:       total time =     375.49 ms /    96 tokens\n",
      "Llama.generate: prefix-match hit\n",
      "\n",
      "llama_print_timings:        load time =     633.27 ms\n",
      "llama_print_timings:      sample time =      24.21 ms /    47 runs   (    0.52 ms per token,  1941.19 tokens per second)\n",
      "llama_print_timings: prompt eval time =     518.29 ms /   421 tokens (    1.23 ms per token,   812.28 tokens per second)\n",
      "llama_print_timings:        eval time =    1462.25 ms /    46 runs   (   31.79 ms per token,    31.46 tokens per second)\n",
      "llama_print_timings:       total time =    2029.09 ms /   467 tokens\n",
      "Llama.generate: prefix-match hit\n",
      "\n",
      "llama_print_timings:        load time =     633.27 ms\n",
      "llama_print_timings:      sample time =      22.08 ms /    43 runs   (    0.51 ms per token,  1947.55 tokens per second)\n",
      "llama_print_timings: prompt eval time =     524.97 ms /   433 tokens (    1.21 ms per token,   824.81 tokens per second)\n",
      "llama_print_timings:        eval time =    1335.34 ms /    42 runs   (   31.79 ms per token,    31.45 tokens per second)\n",
      "llama_print_timings:       total time =    1904.37 ms /   475 tokens\n",
      "Llama.generate: prefix-match hit\n",
      "\n",
      "llama_print_timings:        load time =     633.27 ms\n",
      "llama_print_timings:      sample time =      24.24 ms /    47 runs   (    0.52 ms per token,  1938.70 tokens per second)\n",
      "llama_print_timings: prompt eval time =     521.81 ms /   421 tokens (    1.24 ms per token,   806.81 tokens per second)\n",
      "llama_print_timings:        eval time =    1461.45 ms /    46 runs   (   31.77 ms per token,    31.48 tokens per second)\n",
      "llama_print_timings:       total time =    2032.46 ms /   467 tokens\n",
      "Llama.generate: prefix-match hit\n",
      "\n",
      "llama_print_timings:        load time =     633.27 ms\n",
      "llama_print_timings:      sample time =      28.20 ms /    54 runs   (    0.52 ms per token,  1915.03 tokens per second)\n",
      "llama_print_timings: prompt eval time =     192.44 ms /   148 tokens (    1.30 ms per token,   769.05 tokens per second)\n",
      "llama_print_timings:        eval time =    1654.83 ms /    53 runs   (   31.22 ms per token,    32.03 tokens per second)\n",
      "llama_print_timings:       total time =    1902.40 ms /   201 tokens\n",
      "Llama.generate: prefix-match hit\n",
      "\n",
      "llama_print_timings:        load time =     633.27 ms\n",
      "llama_print_timings:      sample time =      51.53 ms /    98 runs   (    0.53 ms per token,  1901.77 tokens per second)\n",
      "llama_print_timings: prompt eval time =     599.00 ms /   512 tokens (    1.17 ms per token,   854.76 tokens per second)\n",
      "llama_print_timings:        eval time =    3109.09 ms /    97 runs   (   32.05 ms per token,    31.20 tokens per second)\n",
      "llama_print_timings:       total time =    3814.52 ms /   609 tokens\n",
      "Llama.generate: prefix-match hit\n",
      "\n",
      "llama_print_timings:        load time =     633.27 ms\n",
      "llama_print_timings:      sample time =      24.25 ms /    47 runs   (    0.52 ms per token,  1937.90 tokens per second)\n",
      "llama_print_timings: prompt eval time =     519.30 ms /   421 tokens (    1.23 ms per token,   810.71 tokens per second)\n",
      "llama_print_timings:        eval time =    1460.96 ms /    46 runs   (   31.76 ms per token,    31.49 tokens per second)\n",
      "llama_print_timings:       total time =    2032.06 ms /   467 tokens\n",
      "Llama.generate: prefix-match hit\n",
      "\n",
      "llama_print_timings:        load time =     633.27 ms\n",
      "llama_print_timings:      sample time =       4.88 ms /     9 runs   (    0.54 ms per token,  1846.15 tokens per second)\n",
      "llama_print_timings: prompt eval time =     287.77 ms /   233 tokens (    1.24 ms per token,   809.67 tokens per second)\n",
      "llama_print_timings:        eval time =     247.79 ms /     8 runs   (   30.97 ms per token,    32.29 tokens per second)\n",
      "llama_print_timings:       total time =     547.26 ms /   241 tokens\n",
      "Llama.generate: prefix-match hit\n",
      "\n",
      "llama_print_timings:        load time =     633.27 ms\n",
      "llama_print_timings:      sample time =      51.72 ms /    98 runs   (    0.53 ms per token,  1894.71 tokens per second)\n",
      "llama_print_timings: prompt eval time =     597.73 ms /   512 tokens (    1.17 ms per token,   856.57 tokens per second)\n",
      "llama_print_timings:        eval time =    3108.36 ms /    97 runs   (   32.04 ms per token,    31.21 tokens per second)\n",
      "llama_print_timings:       total time =    3815.18 ms /   609 tokens\n",
      "Llama.generate: prefix-match hit\n",
      "\n",
      "llama_print_timings:        load time =     633.27 ms\n",
      "llama_print_timings:      sample time =      23.79 ms /    46 runs   (    0.52 ms per token,  1933.34 tokens per second)\n",
      "llama_print_timings: prompt eval time =     536.31 ms /   439 tokens (    1.22 ms per token,   818.55 tokens per second)\n",
      "llama_print_timings:        eval time =    1434.44 ms /    45 runs   (   31.88 ms per token,    31.37 tokens per second)\n",
      "llama_print_timings:       total time =    2018.86 ms /   484 tokens\n",
      "Llama.generate: prefix-match hit\n",
      "\n",
      "llama_print_timings:        load time =     633.27 ms\n",
      "llama_print_timings:      sample time =      24.20 ms /    47 runs   (    0.51 ms per token,  1942.55 tokens per second)\n",
      "llama_print_timings: prompt eval time =     522.31 ms /   421 tokens (    1.24 ms per token,   806.04 tokens per second)\n",
      "llama_print_timings:        eval time =    1463.48 ms /    46 runs   (   31.81 ms per token,    31.43 tokens per second)\n",
      "llama_print_timings:       total time =    2033.09 ms /   467 tokens\n",
      "Llama.generate: prefix-match hit\n",
      "\n",
      "llama_print_timings:        load time =     633.27 ms\n",
      "llama_print_timings:      sample time =       2.68 ms /     5 runs   (    0.54 ms per token,  1863.59 tokens per second)\n",
      "llama_print_timings: prompt eval time =     252.48 ms /   194 tokens (    1.30 ms per token,   768.37 tokens per second)\n",
      "llama_print_timings:        eval time =     122.62 ms /     4 runs   (   30.65 ms per token,    32.62 tokens per second)\n",
      "llama_print_timings:       total time =     383.12 ms /   198 tokens\n",
      "Llama.generate: prefix-match hit\n",
      "\n",
      "llama_print_timings:        load time =     633.27 ms\n",
      "llama_print_timings:      sample time =      22.08 ms /    41 runs   (    0.54 ms per token,  1856.88 tokens per second)\n",
      "llama_print_timings: prompt eval time =     190.36 ms /   140 tokens (    1.36 ms per token,   735.45 tokens per second)\n",
      "llama_print_timings:        eval time =    1244.61 ms /    40 runs   (   31.12 ms per token,    32.14 tokens per second)\n",
      "llama_print_timings:       total time =    1477.03 ms /   180 tokens\n",
      "Llama.generate: prefix-match hit\n",
      "\n",
      "llama_print_timings:        load time =     633.27 ms\n",
      "llama_print_timings:      sample time =      61.65 ms /   116 runs   (    0.53 ms per token,  1881.47 tokens per second)\n",
      "llama_print_timings: prompt eval time =     457.62 ms /   359 tokens (    1.27 ms per token,   784.49 tokens per second)\n",
      "llama_print_timings:        eval time =    3655.84 ms /   115 runs   (   31.79 ms per token,    31.46 tokens per second)\n",
      "llama_print_timings:       total time =    4242.34 ms /   474 tokens\n",
      "Llama.generate: prefix-match hit\n",
      "\n",
      "llama_print_timings:        load time =     633.27 ms\n",
      "llama_print_timings:      sample time =       2.17 ms /     5 runs   (    0.43 ms per token,  2302.03 tokens per second)\n",
      "llama_print_timings: prompt eval time =     101.65 ms /    73 tokens (    1.39 ms per token,   718.17 tokens per second)\n",
      "llama_print_timings:        eval time =     122.88 ms /     4 runs   (   30.72 ms per token,    32.55 tokens per second)\n",
      "llama_print_timings:       total time =     232.36 ms /    77 tokens\n",
      "Llama.generate: prefix-match hit\n",
      "\n",
      "llama_print_timings:        load time =     633.27 ms\n",
      "llama_print_timings:      sample time =       2.44 ms /     5 runs   (    0.49 ms per token,  2045.83 tokens per second)\n",
      "llama_print_timings: prompt eval time =     447.68 ms /   337 tokens (    1.33 ms per token,   752.78 tokens per second)\n",
      "llama_print_timings:        eval time =     123.96 ms /     4 runs   (   30.99 ms per token,    32.27 tokens per second)\n",
      "llama_print_timings:       total time =     578.95 ms /   341 tokens\n",
      "Llama.generate: prefix-match hit\n",
      "\n",
      "llama_print_timings:        load time =     633.27 ms\n",
      "llama_print_timings:      sample time =      21.92 ms /    42 runs   (    0.52 ms per token,  1915.71 tokens per second)\n",
      "llama_print_timings: prompt eval time =     138.39 ms /   112 tokens (    1.24 ms per token,   809.29 tokens per second)\n",
      "llama_print_timings:        eval time =    1278.42 ms /    41 runs   (   31.18 ms per token,    32.07 tokens per second)\n",
      "llama_print_timings:       total time =    1463.07 ms /   153 tokens\n",
      "Llama.generate: prefix-match hit\n",
      "\n",
      "llama_print_timings:        load time =     633.27 ms\n",
      "llama_print_timings:      sample time =     361.45 ms /   721 runs   (    0.50 ms per token,  1994.73 tokens per second)\n",
      "llama_print_timings: prompt eval time =     188.16 ms /   134 tokens (    1.40 ms per token,   712.18 tokens per second)\n",
      "llama_print_timings:        eval time =   22927.72 ms /   720 runs   (   31.84 ms per token,    31.40 tokens per second)\n",
      "llama_print_timings:       total time =   24199.58 ms /   854 tokens\n",
      "Llama.generate: prefix-match hit\n",
      "\n",
      "llama_print_timings:        load time =     633.27 ms\n",
      "llama_print_timings:      sample time =       2.07 ms /     4 runs   (    0.52 ms per token,  1936.11 tokens per second)\n",
      "llama_print_timings: prompt eval time =     400.10 ms /   291 tokens (    1.37 ms per token,   727.32 tokens per second)\n",
      "llama_print_timings:        eval time =      93.04 ms /     3 runs   (   31.01 ms per token,    32.24 tokens per second)\n",
      "llama_print_timings:       total time =     500.04 ms /   294 tokens\n",
      "Llama.generate: prefix-match hit\n",
      "\n",
      "llama_print_timings:        load time =     633.27 ms\n",
      "llama_print_timings:      sample time =      24.19 ms /    47 runs   (    0.51 ms per token,  1942.79 tokens per second)\n",
      "llama_print_timings: prompt eval time =     522.92 ms /   421 tokens (    1.24 ms per token,   805.09 tokens per second)\n",
      "llama_print_timings:        eval time =    1464.90 ms /    46 runs   (   31.85 ms per token,    31.40 tokens per second)\n",
      "llama_print_timings:       total time =    2036.71 ms /   467 tokens\n",
      "Llama.generate: prefix-match hit\n",
      "\n",
      "llama_print_timings:        load time =     633.27 ms\n",
      "llama_print_timings:      sample time =      40.99 ms /    81 runs   (    0.51 ms per token,  1976.14 tokens per second)\n",
      "llama_print_timings: prompt eval time =     136.16 ms /   104 tokens (    1.31 ms per token,   763.81 tokens per second)\n",
      "llama_print_timings:        eval time =    2501.83 ms /    80 runs   (   31.27 ms per token,    31.98 tokens per second)\n",
      "llama_print_timings:       total time =    2715.72 ms /   184 tokens\n",
      "Llama.generate: prefix-match hit\n",
      "\n",
      "llama_print_timings:        load time =     633.27 ms\n",
      "llama_print_timings:      sample time =      56.31 ms /   109 runs   (    0.52 ms per token,  1935.75 tokens per second)\n",
      "llama_print_timings: prompt eval time =     191.86 ms /   153 tokens (    1.25 ms per token,   797.44 tokens per second)\n",
      "llama_print_timings:        eval time =    3396.10 ms /   108 runs   (   31.45 ms per token,    31.80 tokens per second)\n",
      "llama_print_timings:       total time =    3699.26 ms /   261 tokens\n",
      "Llama.generate: prefix-match hit\n",
      "\n",
      "llama_print_timings:        load time =     633.27 ms\n",
      "llama_print_timings:      sample time =      54.94 ms /   106 runs   (    0.52 ms per token,  1929.24 tokens per second)\n",
      "llama_print_timings: prompt eval time =     598.77 ms /   506 tokens (    1.18 ms per token,   845.06 tokens per second)\n",
      "llama_print_timings:        eval time =    3376.86 ms /   105 runs   (   32.16 ms per token,    31.09 tokens per second)\n",
      "llama_print_timings:       total time =    4091.24 ms /   611 tokens\n",
      "Llama.generate: prefix-match hit\n",
      "\n",
      "llama_print_timings:        load time =     633.27 ms\n",
      "llama_print_timings:      sample time =      10.41 ms /    20 runs   (    0.52 ms per token,  1920.68 tokens per second)\n",
      "llama_print_timings: prompt eval time =     121.45 ms /    96 tokens (    1.27 ms per token,   790.44 tokens per second)\n",
      "llama_print_timings:        eval time =     589.63 ms /    19 runs   (   31.03 ms per token,    32.22 tokens per second)\n",
      "llama_print_timings:       total time =     731.42 ms /   115 tokens\n",
      "Llama.generate: prefix-match hit\n",
      "\n",
      "llama_print_timings:        load time =     633.27 ms\n",
      "llama_print_timings:      sample time =     620.58 ms /  1200 runs   (    0.52 ms per token,  1933.67 tokens per second)\n",
      "llama_print_timings: prompt eval time =     151.72 ms /   121 tokens (    1.25 ms per token,   797.51 tokens per second)\n",
      "llama_print_timings:        eval time =   38610.31 ms /  1199 runs   (   32.20 ms per token,    31.05 tokens per second)\n",
      "llama_print_timings:       total time =   41071.62 ms /  1320 tokens\n",
      "Llama.generate: prefix-match hit\n",
      "\n",
      "llama_print_timings:        load time =     633.27 ms\n",
      "llama_print_timings:      sample time =       4.73 ms /     9 runs   (    0.53 ms per token,  1901.14 tokens per second)\n",
      "llama_print_timings: prompt eval time =     186.11 ms /   135 tokens (    1.38 ms per token,   725.37 tokens per second)\n",
      "llama_print_timings:        eval time =     249.50 ms /     8 runs   (   31.19 ms per token,    32.06 tokens per second)\n",
      "llama_print_timings:       total time =     446.79 ms /   143 tokens\n",
      "Llama.generate: prefix-match hit\n",
      "\n",
      "llama_print_timings:        load time =     633.27 ms\n",
      "llama_print_timings:      sample time =      40.72 ms /    78 runs   (    0.52 ms per token,  1915.38 tokens per second)\n",
      "llama_print_timings: prompt eval time =     115.47 ms /    81 tokens (    1.43 ms per token,   701.49 tokens per second)\n",
      "llama_print_timings:        eval time =    2401.53 ms /    77 runs   (   31.19 ms per token,    32.06 tokens per second)\n",
      "llama_print_timings:       total time =    2595.25 ms /   158 tokens\n",
      "Llama.generate: prefix-match hit\n",
      "\n",
      "llama_print_timings:        load time =     633.27 ms\n",
      "llama_print_timings:      sample time =      22.23 ms /    44 runs   (    0.51 ms per token,  1979.04 tokens per second)\n",
      "llama_print_timings: prompt eval time =      67.69 ms /    38 tokens (    1.78 ms per token,   561.41 tokens per second)\n",
      "llama_print_timings:        eval time =    1339.50 ms /    43 runs   (   31.15 ms per token,    32.10 tokens per second)\n",
      "llama_print_timings:       total time =    1455.11 ms /    81 tokens\n",
      "Llama.generate: prefix-match hit\n",
      "\n",
      "llama_print_timings:        load time =     633.27 ms\n",
      "llama_print_timings:      sample time =      51.65 ms /    98 runs   (    0.53 ms per token,  1897.57 tokens per second)\n",
      "llama_print_timings: prompt eval time =     601.11 ms /   512 tokens (    1.17 ms per token,   851.75 tokens per second)\n",
      "llama_print_timings:        eval time =    3119.70 ms /    97 runs   (   32.16 ms per token,    31.09 tokens per second)\n",
      "llama_print_timings:       total time =    3822.95 ms /   609 tokens\n",
      "Llama.generate: prefix-match hit\n",
      "\n",
      "llama_print_timings:        load time =     633.27 ms\n",
      "llama_print_timings:      sample time =      17.76 ms /    34 runs   (    0.52 ms per token,  1914.85 tokens per second)\n",
      "llama_print_timings: prompt eval time =      86.88 ms /    54 tokens (    1.61 ms per token,   621.55 tokens per second)\n",
      "llama_print_timings:        eval time =    1031.72 ms /    33 runs   (   31.26 ms per token,    31.99 tokens per second)\n",
      "llama_print_timings:       total time =    1154.68 ms /    87 tokens\n",
      "Llama.generate: prefix-match hit\n",
      "\n",
      "llama_print_timings:        load time =     633.27 ms\n",
      "llama_print_timings:      sample time =      38.25 ms /    74 runs   (    0.52 ms per token,  1934.84 tokens per second)\n",
      "llama_print_timings: prompt eval time =     536.96 ms /   438 tokens (    1.23 ms per token,   815.71 tokens per second)\n",
      "llama_print_timings:        eval time =    2334.89 ms /    73 runs   (   31.98 ms per token,    31.26 tokens per second)\n",
      "llama_print_timings:       total time =    2950.50 ms /   511 tokens\n",
      "Llama.generate: prefix-match hit\n",
      "\n",
      "llama_print_timings:        load time =     633.27 ms\n",
      "llama_print_timings:      sample time =      49.94 ms /    95 runs   (    0.53 ms per token,  1902.24 tokens per second)\n",
      "llama_print_timings: prompt eval time =     119.51 ms /    91 tokens (    1.31 ms per token,   761.44 tokens per second)\n",
      "llama_print_timings:        eval time =    2936.95 ms /    94 runs   (   31.24 ms per token,    32.01 tokens per second)\n",
      "llama_print_timings:       total time =    3153.04 ms /   185 tokens\n",
      "Llama.generate: prefix-match hit\n",
      "\n",
      "llama_print_timings:        load time =     633.27 ms\n",
      "llama_print_timings:      sample time =       1.94 ms /     4 runs   (    0.49 ms per token,  2058.67 tokens per second)\n",
      "llama_print_timings: prompt eval time =      99.29 ms /    65 tokens (    1.53 ms per token,   654.64 tokens per second)\n",
      "llama_print_timings:        eval time =      91.28 ms /     3 runs   (   30.43 ms per token,    32.86 tokens per second)\n",
      "llama_print_timings:       total time =     197.42 ms /    68 tokens\n",
      "Llama.generate: prefix-match hit\n",
      "\n",
      "llama_print_timings:        load time =     633.27 ms\n",
      "llama_print_timings:      sample time =      37.80 ms /    73 runs   (    0.52 ms per token,  1931.27 tokens per second)\n",
      "llama_print_timings: prompt eval time =      58.94 ms /    29 tokens (    2.03 ms per token,   492.03 tokens per second)\n",
      "llama_print_timings:        eval time =    2247.43 ms /    72 runs   (   31.21 ms per token,    32.04 tokens per second)\n",
      "llama_print_timings:       total time =    2384.03 ms /   101 tokens\n",
      "Llama.generate: prefix-match hit\n",
      "\n",
      "llama_print_timings:        load time =     633.27 ms\n",
      "llama_print_timings:      sample time =      24.24 ms /    47 runs   (    0.52 ms per token,  1939.10 tokens per second)\n",
      "llama_print_timings: prompt eval time =     522.68 ms /   421 tokens (    1.24 ms per token,   805.46 tokens per second)\n",
      "llama_print_timings:        eval time =    1468.67 ms /    46 runs   (   31.93 ms per token,    31.32 tokens per second)\n",
      "llama_print_timings:       total time =    2038.30 ms /   467 tokens\n",
      "Llama.generate: prefix-match hit\n",
      "\n",
      "llama_print_timings:        load time =     633.27 ms\n",
      "llama_print_timings:      sample time =      24.35 ms /    47 runs   (    0.52 ms per token,  1929.95 tokens per second)\n",
      "llama_print_timings: prompt eval time =       0.00 ms /     0 tokens (    -nan ms per token,     -nan tokens per second)\n",
      "llama_print_timings:        eval time =    1500.22 ms /    47 runs   (   31.92 ms per token,    31.33 tokens per second)\n",
      "llama_print_timings:       total time =    1548.89 ms /    47 tokens\n",
      "Llama.generate: prefix-match hit\n",
      "\n",
      "llama_print_timings:        load time =     633.27 ms\n",
      "llama_print_timings:      sample time =     193.76 ms /   379 runs   (    0.51 ms per token,  1956.01 tokens per second)\n",
      "llama_print_timings: prompt eval time =     259.54 ms /   205 tokens (    1.27 ms per token,   789.87 tokens per second)\n",
      "llama_print_timings:        eval time =   12014.31 ms /   378 runs   (   31.78 ms per token,    31.46 tokens per second)\n",
      "llama_print_timings:       total time =   12746.71 ms /   583 tokens\n",
      "Llama.generate: prefix-match hit\n",
      "\n",
      "llama_print_timings:        load time =     633.27 ms\n",
      "llama_print_timings:      sample time =      43.76 ms /    87 runs   (    0.50 ms per token,  1988.34 tokens per second)\n",
      "llama_print_timings: prompt eval time =      56.83 ms /    25 tokens (    2.27 ms per token,   439.90 tokens per second)\n",
      "llama_print_timings:        eval time =    2685.67 ms /    86 runs   (   31.23 ms per token,    32.02 tokens per second)\n",
      "llama_print_timings:       total time =    2831.47 ms /   111 tokens\n",
      "Llama.generate: prefix-match hit\n",
      "\n",
      "llama_print_timings:        load time =     633.27 ms\n",
      "llama_print_timings:      sample time =      18.17 ms /    36 runs   (    0.50 ms per token,  1981.07 tokens per second)\n",
      "llama_print_timings: prompt eval time =     521.42 ms /   420 tokens (    1.24 ms per token,   805.49 tokens per second)\n",
      "llama_print_timings:        eval time =    1113.18 ms /    35 runs   (   31.81 ms per token,    31.44 tokens per second)\n",
      "llama_print_timings:       total time =    1672.02 ms /   455 tokens\n",
      "Llama.generate: prefix-match hit\n",
      "\n",
      "llama_print_timings:        load time =     633.27 ms\n",
      "llama_print_timings:      sample time =       2.49 ms /     5 runs   (    0.50 ms per token,  2009.65 tokens per second)\n",
      "llama_print_timings: prompt eval time =     304.16 ms /   256 tokens (    1.19 ms per token,   841.66 tokens per second)\n",
      "llama_print_timings:        eval time =     122.35 ms /     4 runs   (   30.59 ms per token,    32.69 tokens per second)\n",
      "llama_print_timings:       total time =     434.18 ms /   260 tokens\n",
      "Llama.generate: prefix-match hit\n",
      "\n",
      "llama_print_timings:        load time =     633.27 ms\n",
      "llama_print_timings:      sample time =      58.77 ms /   113 runs   (    0.52 ms per token,  1922.72 tokens per second)\n",
      "llama_print_timings: prompt eval time =     217.19 ms /   175 tokens (    1.24 ms per token,   805.73 tokens per second)\n",
      "llama_print_timings:        eval time =    3527.08 ms /   112 runs   (   31.49 ms per token,    31.75 tokens per second)\n",
      "llama_print_timings:       total time =    3869.72 ms /   287 tokens\n",
      "Llama.generate: prefix-match hit\n",
      "\n",
      "llama_print_timings:        load time =     633.27 ms\n",
      "llama_print_timings:      sample time =      37.55 ms /    73 runs   (    0.51 ms per token,  1943.92 tokens per second)\n",
      "llama_print_timings: prompt eval time =     191.98 ms /   148 tokens (    1.30 ms per token,   770.91 tokens per second)\n",
      "llama_print_timings:        eval time =    2259.28 ms /    72 runs   (   31.38 ms per token,    31.87 tokens per second)\n",
      "llama_print_timings:       total time =    2527.52 ms /   220 tokens\n",
      "Llama.generate: prefix-match hit\n",
      "\n",
      "llama_print_timings:        load time =     633.27 ms\n",
      "llama_print_timings:      sample time =      33.71 ms /    65 runs   (    0.52 ms per token,  1928.10 tokens per second)\n",
      "llama_print_timings: prompt eval time =      71.71 ms /    42 tokens (    1.71 ms per token,   585.66 tokens per second)\n",
      "llama_print_timings:        eval time =    1994.49 ms /    64 runs   (   31.16 ms per token,    32.09 tokens per second)\n",
      "llama_print_timings:       total time =    2132.01 ms /   106 tokens\n",
      "Llama.generate: prefix-match hit\n",
      "\n",
      "llama_print_timings:        load time =     633.27 ms\n",
      "llama_print_timings:      sample time =      24.33 ms /    47 runs   (    0.52 ms per token,  1931.77 tokens per second)\n",
      "llama_print_timings: prompt eval time =     521.99 ms /   421 tokens (    1.24 ms per token,   806.54 tokens per second)\n",
      "llama_print_timings:        eval time =    1467.96 ms /    46 runs   (   31.91 ms per token,    31.34 tokens per second)\n",
      "llama_print_timings:       total time =    2037.88 ms /   467 tokens\n"
     ]
    }
   ],
   "source": [
    "# capture lenthy model timing output to variable\n",
    "%%capture gen_out\n",
    "test_data['mistral_response'] = test_data['narrative'].apply(lambda x: generate_mistral_response(few_shot_prompt, x))"
   ]
  },
  {
   "cell_type": "code",
   "execution_count": 41,
   "metadata": {
    "id": "rA9KYTgxDh2F"
   },
   "outputs": [
    {
     "name": "stdout",
     "output_type": "stream",
     "text": [
      "\n",
      "No match:   This text appears to be discussing various issues related to financial products and services, including identity theft, disputes with banks or credit card companies, and debt collection. Based on the context provided, it seems most relevant to the following product classifications:\n",
      "\n",
      "* Credit reporting\n",
      "* Retail banking\n",
      "* Debt collection\n",
      "\n",
      "However, without a clear and specific request for a singular product classification based on the text itself, I cannot definitively assign one label. Therefore, I will not provide an answer at this time.\n",
      "\n",
      "No match:   This text appears to be discussing various issues related to financial products and services, including identity theft, disputes with banks or credit card companies, and debt collection. Based on the context provided, it seems most relevant to the following product classifications:\n",
      "\n",
      "* Credit reporting\n",
      "* Retail banking\n",
      "* Debt collection\n",
      "\n",
      "However, without a clear and specific request for a singular product classification based on the text itself, I cannot definitively assign one label. Therefore, I will not provide an answer at this time.\n",
      "\n",
      "No match:   This text appears to be discussing various issues related to financial products and services, including identity theft, disputes with banks or credit card companies, and debt collection. Based on the context provided, it seems most relevant to the following product classifications:\n",
      "\n",
      "* Credit reporting\n",
      "* Retail banking\n",
      "* Debt collection\n",
      "\n",
      "However, without a clear and specific request for a singular product classification based on the text itself, I cannot definitively assign one label. Therefore, I will not provide an answer at this time.\n"
     ]
    }
   ],
   "source": [
    "test_data['mistral_response_cleaned'] = test_data['mistral_response'].apply(lambda x: extract_category(x))"
   ]
  },
  {
   "cell_type": "code",
   "execution_count": 42,
   "metadata": {},
   "outputs": [
    {
     "data": {
      "text/plain": [
       "product\n",
       "credit_reporting       37\n",
       "credit_card             7\n",
       "mortgages_and_loans     4\n",
       "retail_banking          1\n",
       "debt_collection         1\n",
       "Name: count, dtype: int64"
      ]
     },
     "execution_count": 42,
     "metadata": {},
     "output_type": "execute_result"
    }
   ],
   "source": [
    "test_data['product'].value_counts()"
   ]
  },
  {
   "cell_type": "code",
   "execution_count": 43,
   "metadata": {},
   "outputs": [
    {
     "data": {
      "text/plain": [
       "mistral_response_cleaned\n",
       "credit_reporting       27\n",
       "debt_collection        12\n",
       "mortgages_and_loans     4\n",
       "                        3\n",
       "retail_banking          2\n",
       "credit_card             2\n",
       "Name: count, dtype: int64"
      ]
     },
     "execution_count": 43,
     "metadata": {},
     "output_type": "execute_result"
    }
   ],
   "source": [
    "test_data['mistral_response_cleaned'].value_counts()"
   ]
  },
  {
   "cell_type": "markdown",
   "metadata": {
    "id": "plQNsfl0EDSG"
   },
   "source": [
    "### **Calculate F1 score (1 Mark)**"
   ]
  },
  {
   "cell_type": "code",
   "execution_count": 44,
   "metadata": {
    "id": "7WXEgmPKEIoi"
   },
   "outputs": [
    {
     "name": "stdout",
     "output_type": "stream",
     "text": [
      "F1 Score: 0.62\n"
     ]
    }
   ],
   "source": [
    "# Calculate F1 score for 'product' and 'mistral_response_cleaned'\n",
    "f1_3 =  f1_score(test_data['product'], test_data['mistral_response_cleaned'], average=\"micro\")\n",
    "print(f'F1 Score: {f1_3}')"
   ]
  },
  {
   "cell_type": "markdown",
   "metadata": {
    "id": "IdtvdEnTEZcG"
   },
   "source": [
    "### **Q17: Share your observations on the few-shot and zero-shot prompt techniques. (1 Marks)**"
   ]
  },
  {
   "cell_type": "code",
   "execution_count": 45,
   "metadata": {},
   "outputs": [
    {
     "data": {
      "image/png": "[encoded data removed]",
      "text/plain": [
       "<Figure size 640x480 with 2 Axes>"
      ]
     },
     "metadata": {},
     "output_type": "display_data"
    }
   ],
   "source": [
    "# Creating confusion matrix\n",
    "cnf_mt = confusion_matrix(test_data['product'], test_data['mistral_response_cleaned'])\n",
    "\n",
    "# Visualizing confusion matrix using a heatmap\n",
    "num_cats = test_data['mistral_response_cleaned'].value_counts().shape[0]\n",
    "if num_cats == 5:\n",
    "  labels=['credit_card','credit_reporting','debt_collection','mortgages_and_loans','retail_banking']\n",
    "elif num_cats == 6:\n",
    "  labels=['<no-match>','credit_card','credit_reporting','debt_collection','mortgages_and_loans','retail_banking']\n",
    "\n",
    "sns.heatmap(cnf_mt, annot=True, fmt='d', cmap='Blues', xticklabels=labels, yticklabels=labels)\n",
    "plt.xlabel('Predicted')\n",
    "plt.ylabel('Actual')\n",
    "plt.title('Confusion Matrix')\n",
    "plt.show()"
   ]
  },
  {
   "cell_type": "markdown",
   "metadata": {
    "id": "Vca9B37WGneH"
   },
   "source": [
    "# **Section 4: Text to Text generation (5 Marks)**"
   ]
  },
  {
   "cell_type": "markdown",
   "metadata": {},
   "source": [
    "## **Q18: Setup prompts (1 Mark)**"
   ]
  },
  {
   "cell_type": "markdown",
   "metadata": {},
   "source": [
    "Define a **system message** as a string and assign it to the variable system_message to generate product class.** (1 Mark)**\n",
    "\n",
    "Create a **zero shot prompt template** that incorporates the system message and user input.\n",
    "\n",
    "Define **generate_prompt** function that takes both the system_message and user_input as arguments and formats them into a prompt template"
   ]
  },
  {
   "cell_type": "code",
   "execution_count": 55,
   "metadata": {
    "id": "7PewmIuBII56"
   },
   "outputs": [],
   "source": [
    "system_message = \"\"\"\n",
    "Summarize the user input below. Be specific and concise in your summary.\n",
    "\"\"\""
   ]
  },
  {
   "cell_type": "code",
   "execution_count": 56,
   "metadata": {
    "id": "czkz3BMpL2ek"
   },
   "outputs": [],
   "source": [
    "zero_shot_prompt_template = \"[INST]\\n<<SYS>>{system_message}<<SYS>>\\n{user_input}\\n[/INST]\""
   ]
  },
  {
   "cell_type": "code",
   "execution_count": 57,
   "metadata": {
    "id": "WlY1x6ACLtlL"
   },
   "outputs": [],
   "source": [
    "# Define function that combines user_prompt and system_message to create the prompt\n",
    "def t2t_generate_prompt(_system_message, _user_input):\n",
    "    _prompt = zero_shot_prompt_template.format(system_message=_system_message, user_input=_user_input)\n",
    "    return _prompt"
   ]
  },
  {
   "cell_type": "code",
   "execution_count": 58,
   "metadata": {},
   "outputs": [
    {
     "name": "stdout",
     "output_type": "stream",
     "text": [
      "[INST]\n",
      "<<SYS>>\n",
      "Summarize the user input below. Be specific and concise in your summary.\n",
      "<<SYS>>\n",
      "this is the user input\n",
      "[/INST]\n"
     ]
    }
   ],
   "source": [
    "print(t2t_generate_prompt(system_message, \"this is the user input\"))"
   ]
  },
  {
   "cell_type": "markdown",
   "metadata": {
    "id": "X0FEJZSDL2U1"
   },
   "source": [
    "Write a Python function called **generate_mistral_response** that takes a single parameter, narrative, which represents the user's complain. Inside the function, you should perform the following tasks:\n",
    "\n",
    "- **Combine the system_message and narrative to create a prompt string using generate_prompt function.**\n",
    "\n",
    "*Generate a response from the Mistral model using the lcpp_llm instance with the following parameters:*\n",
    "\n",
    "- prompt should be the combined prompt string.\n",
    "- max_tokens should be set to 1200.\n",
    "- temperature should be set to 0.\n",
    "- top_p should be set to 0.95.\n",
    "- repeat_penalty should be set to 1.2.\n",
    "- top_k should be set to 50.\n",
    "- stop should be set as a list containing '/s'.\n",
    "- echo should be set to False.\n",
    "Extract and return the response text from the generated response.\n",
    "\n",
    "Don't forget to provide a value for the system_message variable before using it in the function."
   ]
  },
  {
   "cell_type": "code",
   "execution_count": 59,
   "metadata": {
    "id": "S-kqoM4YL1xU"
   },
   "outputs": [],
   "source": [
    "def t2t_generate_mistral_response(_sys_prompt, _input_text):\n",
    "\n",
    "    # Combine user_prompt and system_message to create the prompt\n",
    "    prompt = t2t_generate_prompt(_sys_prompt, _input_text)\n",
    "\n",
    "    # Generate a response from the LLaMA model\n",
    "    response = lcpp_llm(\n",
    "        prompt=prompt,\n",
    "        max_tokens=1200,\n",
    "        temperature=0,\n",
    "        top_p=0.95,\n",
    "        repeat_penalty=1.2,\n",
    "        top_k=50,\n",
    "        stop=['/s'],\n",
    "        echo=False\n",
    "    )\n",
    "\n",
    "    # Extract and return the response text\n",
    "    response_text = response[\"choices\"][0][\"text\"]\n",
    "    return response_text"
   ]
  },
  {
   "cell_type": "markdown",
   "metadata": {
    "id": "CpiIHpThMtW6"
   },
   "source": [
    "### **Q19: Generate mistral_response column containing LLM generated summaries** **(1 Marks)**"
   ]
  },
  {
   "cell_type": "code",
   "execution_count": 60,
   "metadata": {
    "id": "Fqxl54MMMBTu"
   },
   "outputs": [],
   "source": [
    "# Randomly select 50 rows\n",
    "test_data = data.sample(n=50, random_state=40)"
   ]
  },
  {
   "cell_type": "code",
   "execution_count": 62,
   "metadata": {
    "id": "1kWS3MmUMEgc"
   },
   "outputs": [],
   "source": [
    "# capture lengthy model timing output to variable\n",
    "%%capture gen_out\n",
    "# apply generate_response function to each narrative in dataset\n",
    "test_data['mistral_response'] = test_data['narrative'].apply(lambda x: t2t_generate_mistral_response(system_message, x))"
   ]
  },
  {
   "cell_type": "code",
   "execution_count": 64,
   "metadata": {},
   "outputs": [
    {
     "name": "stdout",
     "output_type": "stream",
     "text": [
      "<class 'pandas.core.frame.DataFrame'>\n",
      "Index: 50 entries, 167 to 387\n",
      "Data columns (total 4 columns):\n",
      " #   Column            Non-Null Count  Dtype \n",
      "---  ------            --------------  ----- \n",
      " 0   product           50 non-null     object\n",
      " 1   narrative         50 non-null     object\n",
      " 2   summary           50 non-null     object\n",
      " 3   mistral_response  50 non-null     object\n",
      "dtypes: object(4)\n",
      "memory usage: 2.0+ KB\n"
     ]
    }
   ],
   "source": [
    "test_data.info()"
   ]
  },
  {
   "cell_type": "code",
   "execution_count": 72,
   "metadata": {},
   "outputs": [
    {
     "name": "stdout",
     "output_type": "stream",
     "text": [
      "AI summary:  \n",
      "  The user is reporting a fraudulent charge of an undisclosed amount on their Capital One checking account, which was made using a debit card. The charge was immediately canceled and the user disputed it with Capital One. A provisional credit was issued to the account pending determination of the claim. However, the bank denied the claim after receiving a form letter. Despite never losing possession of their debit card, someone else used it for a fraudulent purchase. The user believes the card was intercepted and activated without their authorization. They have contacted Capital One multiple times to discuss the original claim and make a determination. Additionally, they reported the incident to local police department's financial services division regarding the fraudulent charge. A replacement card has been sent but it was activated before receiving it, allowing for unauthorized credit purchases. The user is appealing the denial of their claim with Capital One and providing them with the claim number.\n",
      "\n",
      "Reference summary:\n",
      " A fraudulent charge was made on the individual's Capital One checking account via a debit card. The transaction was immediately disputed and the card was cancelled. Capital One issued provisional credit. However, the bank later denied the claim and withdrew the provisional credit. The individual appealed the denial and had contacted Capital One multiple times, but no one reached out to discuss the original claim or decision. The original card was never lost and no authorization was given to anyone to use it. They believe a new, replacement card sent by Capital One was intercepted and fraudulently activated to make the charge. The individual is unhappy with Capital One's handling of the situation, stating that it is grossly improper to send a replacement card and allow it to be activated without authorization. They reported the fraud, have appealed the claim denial with Capital One and have also placed a complaint with their local police department and the Division of Financial Services.\n"
     ]
    }
   ],
   "source": [
    "print(\"AI summary:  \\n\", test_data['mistral_response'].iloc[0])\n",
    "print(\"\\nReference summary:\\n\", test_data['summary'].iloc[0])"
   ]
  },
  {
   "cell_type": "markdown",
   "metadata": {
    "id": "dl-5fRKbND2n"
   },
   "source": [
    "### **Q20: Evaluate bert score** **(2 Marks)**"
   ]
  },
  {
   "cell_type": "code",
   "execution_count": 66,
   "metadata": {
    "id": "ikncTGPBNPRb"
   },
   "outputs": [
    {
     "name": "stderr",
     "output_type": "stream",
     "text": [
      "Some weights of RobertaModel were not initialized from the model checkpoint at roberta-large and are newly initialized: ['roberta.pooler.dense.bias', 'roberta.pooler.dense.weight']\n",
      "You should probably TRAIN this model on a down-stream task to be able to use it for predictions and inference.\n"
     ]
    },
    {
     "name": "stdout",
     "output_type": "stream",
     "text": [
      "BERT Score: 0.35526664793491364\n"
     ]
    }
   ],
   "source": [
    "bert_scorer = evaluate.load(\"bertscore\")\n",
    "bscore = bert_scorer.compute(\n",
    "            predictions=test_data['mistral_response'],\n",
    "            references=test_data['summary'],\n",
    "            lang=\"en\",\n",
    "            rescale_with_baseline=True\n",
    "        );\n",
    "\n",
    "score = sum(bscore['f1'])/len(bscore['f1']);\n",
    "print(f'BERT Score: {score}')"
   ]
  },
  {
   "cell_type": "code",
   "execution_count": 67,
   "metadata": {},
   "outputs": [
    {
     "name": "stdout",
     "output_type": "stream",
     "text": [
      "Rouge Scores: {'rouge1': 0.494803417891791, 'rouge2': 0.17045653366638597, 'rougeL': 0.291427956721481, 'rougeLsum': 0.30613231392609996}\n"
     ]
    }
   ],
   "source": [
    "rouge_scorer = evaluate.load(\"rouge\")\n",
    "rscore = rouge_scorer.compute(\n",
    "            predictions=test_data['mistral_response'],\n",
    "            references=test_data['summary']\n",
    "        )\n",
    "print(f\"Rouge Scores: {rscore}\")"
   ]
  },
  {
   "cell_type": "markdown",
   "metadata": {
    "id": "-p6_jPcVNWz7"
   },
   "source": [
    "### **Q21: Write your observation** **(1 Marks)**"
   ]
  },
  {
   "cell_type": "markdown",
   "metadata": {},
   "source": [
    "- BERT score of .36 is at the low end of acceptable performance."
   ]
  }
 ],
 "metadata": {
  "colab": {
   "provenance": []
  },
  "kernelspec": {
   "display_name": "Python 3 (ipykernel)",
   "language": "python",
   "name": "python3"
  },
  "language_info": {
   "codemirror_mode": {
    "name": "ipython",
    "version": 3
   },
   "file_extension": ".py",
   "mimetype": "text/x-python",
   "name": "python",
   "nbconvert_exporter": "python",
   "pygments_lexer": "ipython3",
   "version": "3.10.12"
  }
 },
 "nbformat": 4,
 "nbformat_minor": 4
}
